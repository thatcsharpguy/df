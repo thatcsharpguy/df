{
 "cells": [
  {
   "cell_type": "markdown",
   "id": "01-jupyter-lab-0",
   "metadata": {},
   "source": [
    "# 01: Jupyter Lab  \n",
    "\n",
    "<table style=\"margin:0; max-width: 1000px;\">\n",
    "    <tbody>\n",
    "        <tr>\n",
    "            <td>\n",
    "                <a href=\"https://thatcsharpguy.com\">\n",
    "                    <img src=\"assets/general/Sharp@1x.png\" />\n",
    "                </a>\n",
    "            </td>\n",
    "            <td>\n",
    "                <a href=\"https://twitter.com/io_exception\">\n",
    "                    <img src=\"assets/general/Twitter@1x.png\" />\n",
    "                </a>\n",
    "            </td>\n",
    "            <td>\n",
    "                <a href=\"https://tcsg.dev/discord\">\n",
    "                    <img src=\"assets/general/Discord@1x.png\" />\n",
    "                </a>\n",
    "            </td>\n",
    "            <td>\n",
    "                <a href=\"https://github.com/thatcsharpguy/df\">\n",
    "                    <img src=\"assets/general/GitHub@1x.png\" />\n",
    "                </a>\n",
    "            </td>\n",
    "            <td>\n",
    "                <a href=\"https://youtube.com/thatcsharpguy\">\n",
    "                    <img src=\"assets/general/YouTube@1x.png\" />\n",
    "                </a>\n",
    "            </td>\n",
    "            <td>\n",
    "                <a href=\"https://youtu.be/QclZayjU8K8\">\n",
    "                    <img src=\"assets/general/EnVivo@1x.png\" />\n",
    "                </a>\n",
    "            </td>\n",
    "            <td>\n",
    "                <a href=\"https://twitch.tv/thatcsharpguy\">\n",
    "                    <img src=\"assets/general/Twitch@1x.png\" />\n",
    "                </a>\n",
    "            </td>\n",
    "        </tr>\n",
    "    </tbody>\n",
    "</table>"
   ]
  },
  {
   "cell_type": "markdown",
   "id": "01-jupyter-lab-1",
   "metadata": {},
   "source": [
    "## Entornos virtuales - conda vs. pipenv  \n",
    "\n",
    "Idealmente todo el código se ejecuta dentro de un entorno aislado del resto de los programas y aplicaciones instalados en tu computadora, evitando así que existan conflictos entre dependencias. Esto nos ayuda a dos cosas: nos facilita la vida evitando conflictos entre dependencias y, lo más importante en la ciencia de datos, **ayuda en la reproducibilidad de nuestros experimentos y análisis**.  \n",
    "\n",
    "He hablado sobre entornos virtuales en el pasado: un [video sobre ellos](https://youtu.be/GM-RcOaGN4w) y [un directo también](https://youtu.be/ihG0Ya_h188).\n",
    "\n",
    "En el mundo científico-pythonista el gestor de entornos y paquetes por excelencia es [Conda](https://docs.conda.io/en/latest/); sin embargo yo tengo una preferencia personal por [Pipenv](https://pipenv.pypa.io/en/latest/) pues es más ligero, minimalista y completamente enfocado en Python. *Potatos, potatoes* cualquier gestor de paquetes que decidas usar es bueno.\n",
    "\n",
    "**Docker**: Puedes ejecutar estos notebooks en un [contenedor de Docker](https://youtu.be/ppl2y4iP2yE) también."
   ]
  },
  {
   "cell_type": "markdown",
   "id": "01-jupyter-lab-2",
   "metadata": {},
   "source": [
    "## Paquetes  \n",
    "\n",
    "(Entre las primeras cosas que mencionaré en cada uno de los notebooks estará una sección llamada \"Paquetes\" en la cual listaré los paquetes que vamos a usar durante la sesión, esta información es solo como referencia, los paquetes ya deberían estar instalados si instalaste los requerimientos correctamente desde el inicio)\n",
    "\n",
    " - `jupyterlab`  \n",
    " - `matplotlib`\n",
    " - `ipympl`\n",
    " - `numpy`\n",
    "\n",
    "(Dependiendo del gestor de paquetes que uses tendrás que instalarlos manualmente, por ejemplo `pipenv install jupyterlab` instala `jupyterlab` usando *pipenv*) "
   ]
  },
  {
   "cell_type": "markdown",
   "id": "01-jupyter-lab-3",
   "metadata": {},
   "source": [
    "## Qué es Jupyter Lab\n",
    "\n",
    "*Jupyter Lab* es la nueva interfaz gráfica que nos permite interactuar con los *Jupyter Notebooks*. Estos *notebooks* son una versión mas ... para interactuar con la consola de Python. Cada *notebook* tiene asociada una consola de Python (también conocido como *kernel*) que está activa y esperando a que nosotros le mandemos comandos usando la interfaz gráfica de nuestros *notebooks*.\n",
    "\n",
    "Las *Notebooks* son una implementación del paradigma de [programación letrada](https://en.wikipedia.org/wiki/Literate_programming) ideado por Donald Knuth. Esto se logra mediante el uso de **celdas (cells)** en donde cada una de estas celdas puede ser de dos tipos: **texto** escrito con [*markdown*](https://en.wikipedia.org/wiki/Markdown) o **código** que en este caso vamos a escribir en Python. \n",
    "\n",
    "### Tecnicalidades\n",
    "\n",
    "Jupyter funciona con una arquitectura cliente-servidor, lo que ustedes están viendo en esta pantalla es el cliente reperesentado por una aplicación web y el servidor es una aplicación que se está ejecutando en su computadora. Esto significa que podríamos tener el servidor de Jupyter ejecutándose en una computadora más poderosa (por ejemplo, en AWS) y nosotros poder acceder desde cualquier navegador y programar desde ahí. A pesar de esto también es muy común tener cliente y servidor en la misma computadora.\n",
    "\n",
    "**Otros *kernels***: Es posible configurar nuestro servidor de Jupyter para que acepte otros *kernels* de disntintos lenguajes o distintas versiones de Python, entre ellos Julia, R y hasta C#.\n"
   ]
  },
  {
   "cell_type": "markdown",
   "id": "01-jupyter-lab-4",
   "metadata": {},
   "source": [
    "## Ventajas \n",
    "\n",
    " - Son perfectos para mostrar tu trabajo\n",
    " - Facilitan la experimentación\n",
    " - Tienen una curva de aprendizaje relativamente baja\n",
    " - Su arquitectura las hace ideales para uso remoto"
   ]
  },
  {
   "cell_type": "markdown",
   "id": "01-jupyter-lab-5",
   "metadata": {},
   "source": [
    "## Desventajas  \n",
    " \n",
    " - Es fácil escribir código espagueti\n",
    " - No es tan sencillo colaborar en el mismo *notebook*\n",
    " - Sin todas las herramientas de un IDE\n",
    " - Dificultad a la hora de depurar"
   ]
  },
  {
   "cell_type": "markdown",
   "id": "01-jupyter-lab-6",
   "metadata": {},
   "source": [
    "## Navegando las notebooks\n",
    "\n",
    "El funcionamiento de las *notebooks* se centra en una entidad conocida como \"celda\", a nosotros nos interesan dos tipos de celdas: de código y de *markdown*, ésta y todas las celdas anteriores son celdas de markdown. \n",
    "\n",
    " - Doble click (o <kbd>Enter</kbd>) en una celda para entrar en modo de edición\n",
    " - <kbd>Esc</kbd> para salir de modo de edición y entrar en modo comandos\n",
    " - <kbd>Ctrl</kbd> + <kbd>Enter</kbd> ejecuta la celda actual (y permanece en esta)\n",
    " - <kbd>Shift</kbd> + <kbd>Enter</kbd> ejecuta la celda actual y avanza a la siguiente\n",
    " - <kbd>Alt</kbd> + <kbd>Enter</kbd> ejecuta la celda actual y crea una nueva justo debajo de la actual\n",
    " - En modo comandos:\n",
    "     - <kbd>⬆</kbd> y <kbd>⬇</kbd> para navegar entre celdas\n",
    "     - <kbd>M</kbd> para cambiar una celda a *markdown*\n",
    "     - <kbd>Y</kbd> para cambiar una celda a código\n",
    "     - <kbd>D</kbd> + <kbd>D</kbd> para eliminar una celda\n",
    "     - <kbd>Z</kbd> para deshacer cambios a las celdas\n",
    "     - <kbd>A</kbd> agrega una celda arriba de la actual\n",
    "     - <kbd>B</kbd> agrega una celda debajo de la actual\n",
    "     "
   ]
  },
  {
   "cell_type": "markdown",
   "id": "01-jupyter-lab-7",
   "metadata": {},
   "source": [
    "## \"!\" en las celdas  \n",
    "\n",
    "Puedes poner un `!` como prefijo para indicarle al intérprete que el código a ejecutar después del `i` no es un comando para python, sino algo que debe ejecutar en la terminal del sistema operativo del host:"
   ]
  },
  {
   "cell_type": "code",
   "execution_count": null,
   "id": "01-jupyter-lab-8",
   "metadata": {},
   "outputs": [],
   "source": [
    "!echo \"Hola!\""
   ]
  },
  {
   "cell_type": "code",
   "execution_count": null,
   "id": "01-jupyter-lab-9",
   "metadata": {},
   "outputs": [],
   "source": [
    "# Podemos combinar comentarios y comandos de consola...\n",
    "!echo \"import jupyterlab; print(jupyterlab.__version__)\" > temporary.py"
   ]
  },
  {
   "cell_type": "code",
   "execution_count": null,
   "id": "01-jupyter-lab-10",
   "metadata": {},
   "outputs": [],
   "source": [
    "# ¡Podemos combinar Python y comandos de consola!\n",
    "for i in range(2):\n",
    "    resultado_consola = !echo \"Hello $i\"\n",
    "    print(resultado_consola)"
   ]
  },
  {
   "cell_type": "markdown",
   "id": "01-jupyter-lab-11",
   "metadata": {},
   "source": [
    "## \"?\" en las celdas\n",
    "\n",
    "Podemos usar el símbolo \"?\" para obtener ayuda sobre el código en Python, podemos poner el símbolo antes o después de la instrucción sobre la que queremos saber más."
   ]
  },
  {
   "cell_type": "code",
   "execution_count": null,
   "id": "01-jupyter-lab-12",
   "metadata": {},
   "outputs": [],
   "source": [
    "?str"
   ]
  },
  {
   "cell_type": "code",
   "execution_count": null,
   "id": "01-jupyter-lab-13",
   "metadata": {},
   "outputs": [],
   "source": [
    "list?"
   ]
  },
  {
   "cell_type": "markdown",
   "id": "01-jupyter-lab-14",
   "metadata": {},
   "source": [
    "## Comandos mágicos (?)\n",
    "\n",
    "En adición a los signos anteriores, dentro de las celdas de las *notebooks* también podemos usar elementos conocidos como \"comandos mágicos\" que son atajos a funciones útiles."
   ]
  },
  {
   "cell_type": "markdown",
   "id": "01-jupyter-lab-15",
   "metadata": {},
   "source": [
    "### Ejecutar un script"
   ]
  },
  {
   "cell_type": "code",
   "execution_count": null,
   "id": "01-jupyter-lab-16",
   "metadata": {},
   "outputs": [],
   "source": [
    "# Ejecutando un script de python con %run\n",
    "%run temporary.py"
   ]
  },
  {
   "cell_type": "markdown",
   "id": "01-jupyter-lab-17",
   "metadata": {},
   "source": [
    "### Cargar un script"
   ]
  },
  {
   "cell_type": "code",
   "execution_count": null,
   "id": "01-jupyter-lab-18",
   "metadata": {},
   "outputs": [],
   "source": [
    "# %load temporary.py\n",
    "import jupyterlab\n",
    "\n",
    "print(jupyterlab.__version__)"
   ]
  },
  {
   "cell_type": "markdown",
   "id": "01-jupyter-lab-19",
   "metadata": {},
   "source": [
    "### Cronómetrando nuestro código  \n",
    "\n",
    "Siempre es bueno tener una idea de cuánto tiempo es que nuestro código se va a tardar en ejecutar, podemos usar dos formas de medir el tiempo con los comandos mágicos:  \n",
    "\n",
    " - `%%time`: para calcular el tiempo que tarda una celda completa en ejecutarse\n",
    " - `%timeit`: para calcular el tiempo de ejecución de una línea de código (ejecuta la línea múltiples veces para analizar el resultado:"
   ]
  },
  {
   "cell_type": "code",
   "execution_count": null,
   "id": "01-jupyter-lab-20",
   "metadata": {},
   "outputs": [],
   "source": [
    "%%time\n",
    "import time\n",
    "for i in range(4):\n",
    "    time.sleep(i)\n",
    "print(\"done\")"
   ]
  },
  {
   "cell_type": "code",
   "execution_count": null,
   "id": "01-jupyter-lab-21",
   "metadata": {},
   "outputs": [],
   "source": [
    "import random  \n",
    "\n",
    "# %timeit random.randint(10, 15)\n",
    "%timeit -n 10 random.randint(10, 15)"
   ]
  },
  {
   "cell_type": "markdown",
   "id": "01-jupyter-lab-22",
   "metadata": {},
   "source": [
    "### Gráficando en las *notebooks*  \n",
    "\n",
    "Una de las grandes ventajas que tenemos con las *notebooks* es que podemos crear gráficas dentro de ellas, mientras que podemos emplear el módulo `matplotlib`, podemos también cambiar el [backend](https://matplotlib.org/stable/tutorials/introductory/usage.html#what-is-a-backend) que estamos usando para graficar; por default el backend es `inline`, pero gracias a [`ipympl`](https://github.com/matplotlib/ipympl) podemos tener gráficas interactivas si cambiamos el backend a `widget` con el comando mágico `%matplotlib widget`"
   ]
  },
  {
   "cell_type": "code",
   "execution_count": null,
   "id": "01-jupyter-lab-23",
   "metadata": {},
   "outputs": [],
   "source": [
    "import matplotlib.pyplot as plt\n",
    "import numpy as np"
   ]
  },
  {
   "cell_type": "code",
   "execution_count": null,
   "id": "01-jupyter-lab-24",
   "metadata": {},
   "outputs": [],
   "source": [
    "%matplotlib inline\n",
    "# %config InlineBackend.figure_format ='retina'\n",
    "\n",
    "fig = plt.figure()\n",
    "plt.plot(np.sin(np.linspace(0, 20, 100)));"
   ]
  },
  {
   "cell_type": "code",
   "execution_count": null,
   "id": "01-jupyter-lab-25",
   "metadata": {},
   "outputs": [],
   "source": [
    "%matplotlib widget\n",
    "\n",
    "fig = plt.figure()\n",
    "plt.plot(np.sin(np.linspace(0, 20, 100)));"
   ]
  },
  {
   "cell_type": "markdown",
   "id": "01-jupyter-lab-26",
   "metadata": {},
   "source": [
    " > 🚨 Es importante mencionar que tanto \"!\", \"?\" y \"%\" son elementos disponibles en los *Juypyter Notebooks*, de ninguna manera pertenecen a la sintaxis del lenguaje Python."
   ]
  },
  {
   "cell_type": "markdown",
   "id": "01-jupyter-lab-27",
   "metadata": {},
   "source": [
    "## Bonus: $\\mu\\alpha\\tau\\epsilon\\mu\\alpha\\tau\\iota\\kappa\\alpha\\sigma$  \n",
    "\n",
    "Además de *markdown* las celdas de las *notebooks* permiten usar símbolos matemáticos, mediante el uso del símbolo `$`, hay dos formas de hacerlo\n",
    "\n",
    " - *En línea*: Tenemos que colocar la expresión matemática entre `$`; ejemplo `$e = m \\times c^2$` se verá así: $e = m \\times c^2$\n",
    " - *En bloque*: Tenemos que colocar la expresión matemática entre `$$`; ejemplo `$$e = m \\times c^2$$` se verá así: $$e = m \\times c^2$$  \n",
    " \n",
    "En lecciones subsecuentes vamos a ver algunas fórmulas 🧐"
   ]
  },
  {
   "cell_type": "markdown",
   "id": "01-jupyter-lab-28",
   "metadata": {},
   "source": [
    "## Playground"
   ]
  },
  {
   "cell_type": "markdown",
   "id": "01-jupyter-lab-29",
   "metadata": {},
   "source": [
    "-----\n",
    "## Referencias\n",
    "\n",
    "### Sitios web  \n",
    "\n",
    "<table style=\"margin:0; max-width: 1000px;\">\n",
    "    <tbody>\n",
    "        <tr>\n",
    "            <td>\n",
    "                <a href=\"https://thatcsharpguy.com\">\n",
    "                    <img src=\"assets/general/Sharp@1x.png\" />\n",
    "                </a>\n",
    "            </td>\n",
    "            <td>\n",
    "                <a href=\"https://twitter.com/io_exception\">\n",
    "                    <img src=\"assets/general/Twitter@1x.png\" />\n",
    "                </a>\n",
    "            </td>\n",
    "            <td>\n",
    "                <a href=\"https://tcsg.dev/discord\">\n",
    "                    <img src=\"assets/general/Discord@1x.png\" />\n",
    "                </a>\n",
    "            </td>\n",
    "            <td>\n",
    "                <a href=\"https://github.com/thatcsharpguy/df\">\n",
    "                    <img src=\"assets/general/GitHub@1x.png\" />\n",
    "                </a>\n",
    "            </td>\n",
    "            <td>\n",
    "                <a href=\"https://youtube.com/thatcsharpguy\">\n",
    "                    <img src=\"assets/general/YouTube@1x.png\" />\n",
    "                </a>\n",
    "            </td>\n",
    "            <td>\n",
    "                <a href=\"https://youtu.be/QclZayjU8K8\">\n",
    "                    <img src=\"assets/general/EnVivo@1x.png\" />\n",
    "                </a>\n",
    "            </td>\n",
    "            <td>\n",
    "                <a href=\"https://twitch.tv/thatcsharpguy\">\n",
    "                    <img src=\"assets/general/Twitch@1x.png\" />\n",
    "                </a>\n",
    "            </td>\n",
    "        </tr>\n",
    "    </tbody>\n",
    "</table>\n",
    "\n",
    " - **28 Jupyter Notebook Tips, Tricks, and Shortcuts** - [https://www.dataquest.io/blog/jupyter-notebook-tips-tricks-shortcuts/](https://www.dataquest.io/blog/jupyter-notebook-tips-tricks-shortcuts/)\n",
    " - **Jupyter Notebook Cheat Sheet : A Beginner’s Guide to Jupyter Notebook** - [https://www.edureka.co/blog/cheatsheets/jupyter-notebook-cheat-sheet](https://www.edureka.co/blog/cheatsheets/jupyter-notebook-cheat-sheet)\n",
    " "
   ]
  }
 ],
 "metadata": {
  "kernelspec": {
   "display_name": "Python 3",
   "language": "python",
   "name": "python3"
  },
  "language_info": {
   "codemirror_mode": {
    "name": "ipython",
    "version": 3
   },
   "file_extension": ".py",
   "mimetype": "text/x-python",
   "name": "python",
   "nbconvert_exporter": "python",
   "pygments_lexer": "ipython3",
   "version": "3.8.2"
  },
  "toc-autonumbering": false,
  "toc-showcode": false,
  "toc-showmarkdowntxt": false,
  "toc-showtags": false
 },
 "nbformat": 4,
 "nbformat_minor": 5
}
