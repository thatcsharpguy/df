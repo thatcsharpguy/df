{
 "cells": [
  {
   "cell_type": "markdown",
   "id": "02-computo-vectorizado-0",
   "metadata": {},
   "source": [
    "# 02: Cómputo vectorizado  \n",
    "  \n",
    "<table style=\"margin:0; max-width: 1000px;\">\n",
    "    <tbody>\n",
    "        <tr>\n",
    "            <td>\n",
    "                <a href=\"https://thatcsharpguy.com\">\n",
    "                    <img src=\"assets/general/Sharp@1x.png\" />\n",
    "                </a>\n",
    "            </td>\n",
    "            <td>\n",
    "                <a href=\"https://twitter.com/io_exception\">\n",
    "                    <img src=\"assets/general/Twitter@1x.png\" />\n",
    "                </a>\n",
    "            </td>\n",
    "            <td>\n",
    "                <a href=\"https://tcsg.dev/discord\">\n",
    "                    <img src=\"assets/general/Discord@1x.png\" />\n",
    "                </a>\n",
    "            </td>\n",
    "            <td>\n",
    "                <a href=\"https://github.com/thatcsharpguy/df\">\n",
    "                    <img src=\"assets/general/GitHub@1x.png\" />\n",
    "                </a>\n",
    "            </td>\n",
    "            <td>\n",
    "                <a href=\"https://youtube.com/thatcsharpguy\">\n",
    "                    <img src=\"assets/general/YouTube@1x.png\" />\n",
    "                </a>\n",
    "            </td>\n",
    "            <td>\n",
    "                <a href=\"https://youtu.be/iLIQykiASs4\">\n",
    "                    <img src=\"assets/general/EnVivo@1x.png\" />\n",
    "                </a>\n",
    "            </td>\n",
    "            <td>\n",
    "                <a href=\"https://twitch.tv/thatcsharpguy\">\n",
    "                    <img src=\"assets/general/Twitch@1x.png\" />\n",
    "                </a>\n",
    "            </td>\n",
    "        </tr>\n",
    "    </tbody>\n",
    "</table>"
   ]
  },
  {
   "cell_type": "markdown",
   "id": "02-computo-vectorizado-1",
   "metadata": {},
   "source": [
    "## Paquetes  \n",
    "\n",
    " - `matplotlib`\n",
    " - `numpy`"
   ]
  },
  {
   "cell_type": "markdown",
   "id": "02-computo-vectorizado-2",
   "metadata": {},
   "source": [
    "## Tipos de dato en Python  \n",
    "\n",
    "### Tipos base\n",
    "\n",
    " - Números **enteros** - `int`\n",
    " - Números **flotantes** - `float`\n",
    " - Números **complejos** - `complex`\n",
    " - Cadenas - `str`\n",
    " - Booleanos - `bool`\n",
    "\n",
    "### Contenedores  \n",
    "\n",
    " - Listas - `list`\n",
    " - Tuplas - `tuple`\n",
    " - Mapas - `dict`\n",
    " - Conjuntos - `set`\n",
    "\n",
    "muy importantes pero, no tan interesantes a comparación de..."
   ]
  },
  {
   "cell_type": "markdown",
   "id": "02-computo-vectorizado-3",
   "metadata": {},
   "source": [
    "## Los arreglos nuéricos multidimensionales\n",
    "\n",
    " > 🗣️ Los arreglos multidimensionales también se conocen como *ndarrays*, *N-dimensional arrays*.\n",
    "\n",
    "Es un tipo de dato que nos sirve para representar colecciones de números, es un tipo **no nativo** de Python. \n",
    "\n",
    "### Razones  \n",
    "\n",
    "#### Representación de elementos complejos  \n",
    "\n",
    "Imágenes, videos, canciones, modelos 3d... todos estas cosas se pueden representar como arreglos multidimensionales: una canción es un areglo unidimensional de intensidades de sonido, una imagen es un arreglo bidimensional de valores de brillo, y un vídeo es un areglo tridimensional, dos de las dimensiones son brillos y la otra representa el tiempo, un modelo 3d es in conjunto de puntos en un espacio tridimensional representado como un arreglo multidimensional.\n",
    "\n",
    "#### Trabajar con \"datos científicos\"  \n",
    "\n",
    "Usualmente realizamos experimentos científicos repetidamente, obteniendo de ellos una secuencia de valores que podemos representar fácilmente como un arreglo. Otras veces hacemos un solo experimento sobre múltiples sujetos, obtieniendo de ellos una secuencia de valores. ¡A veces hacemos las dos cosas a la vez!\n",
    "\n",
    "#### Elegancia 🧐\n",
    "\n",
    "Los arreglos multidimensionales nos permiten aplicar y extender las operaciones que podemos aplicar a números individuales para aplicarselos a todos los elementos del arreglo de forma concisa y fácil de leer; la alternativa es escribir ciclos para aplicar operaciones a distintos elementos de una colección (ver ejemplo).\n",
    "\n",
    "\n",
    "#### Eficiencia  \n",
    "\n",
    "Los arreglos multidimensionales son relativamente compactos (comparados con una lista, por ejemplo) y almacenan la información de forma muy eficiente, lo cual los hace ideales para lidiar con problemas en los que tenemos que lidiar con grandes cantidades de datos.\n",
    "\n",
    "## Una instrucción, muchos datos  \n",
    "\n",
    "El tema central de esta sesión es la introducción al **cómputo vectorizado** (ojo, ¡no vectorial!). Nosotros vamos a conocer bajo este término a la práctica de escribir código que se aplique a múltiples elementos de un arreglo de forma simultanea. Esto se también como [SIMD](https://en.wikipedia.org/wiki/SIMD) (*Single Instruction Multiple Data*) y representa una forma de implementar cómputo paralelo restringido a operaciones numéricas sobre arreglos, claro.\n",
    "\n",
    "### GPUs \n",
    "\n",
    "Uno de los ejemplos por excelencia de dónde es que ocurren este tipo de operaciones es en las tarjetas gráficas, hace poco mencioné que podemos representar modelos 3D usando arreglos multidimensionales; para hacer que estos objetos se muevan mediante rotaciones, traslaciones y demás, debemos aplicar sobre ellos operaciones matemáticas y para eso es que se ocupan este tipo de tarjetas.  \n",
    "\n",
    "Estas tarjetas están especialmente diseñadas (y programadas) para lidiar de manera eficiente con arreglos numéricos y múltiples operaciones que podemos usar para manipularlos. Es por eso que son muy importantes en el mundo de los videojuegos; pero no solo ahí, puesto que cualquier operacion que representemos como arreglos puede ser llevada a cabo en una GPU.\n",
    "\n",
    "Además de  GPUs, Google creó algo llamado **TPUs** (*Tensor Processor Unit*) que es una versión orientada a la manipulación de arreglos multidimensionales para su framework de Deep Learning Tensorflow."
   ]
  },
  {
   "cell_type": "markdown",
   "id": "02-computo-vectorizado-4",
   "metadata": {},
   "source": [
    "## Las cosas por su nombre  \n",
    "\n",
    "Hasta el momento hemos estado hablando de \"arreglos multidimensionales\", pero existen nombres específicos para arreglos con 1, 2 y 3 o más dimensiones:\n",
    "\n",
    "<img src=\"assets/02/vector-tensor-matriz.jpg\" />"
   ]
  },
  {
   "cell_type": "markdown",
   "id": "02-computo-vectorizado-5",
   "metadata": {},
   "source": [
    "## Propiedades de los arreglos  \n",
    "\n",
    " - Tamaño (siempre \"rectangulares\")\n",
    " - Tipo\n",
    " \n",
    "#### Ejemplo 1   \n",
    " \n",
    "```text\n",
    " [0 0 0]  \n",
    " [0 0 0]  \n",
    " [0 0 0]\n",
    "```\n",
    "**Tamaño**: (3, 3), **tipo**: enteros\n",
    " \n",
    "#### Ejemplo 2   \n",
    " \n",
    "```text\n",
    " [1.3 2.3 3.5 4.1 5.9]  \n",
    "```\n",
    "**Tamaño**: (5,), **tipo**: float\n",
    " \n",
    "#### Ejemplo 3 ❌   \n",
    " \n",
    "```text\n",
    " [1.3 2.3 3.5]  \n",
    " [0.0 3.5]  \n",
    " [1.3 2.3 3.5 1.1]  \n",
    "```\n",
    "**Tamaño**: (????), **tipo**: float\n",
    " \n",
    "Como ya mencioné anteriormente, las listas en Python son *listas de objetos*; por el contrario, los *ndarrays* almacenan los números como *números* y de forma contigua en memoria; la biblioteca que nos permite interactuar con estos objetos en Python nos permite interactuar con los arreglos como valores numéricos en Python, pero en realidad no lo son. \n",
    "\n",
    "La importancia de que los arreglos tengan un tipo uniforme para todos sus valores tiene que ver con la eficiencia a la hora de almacenarlos; es más fácil almacenar y acceder a ellos si tenemos un tamaño fijo para todos los elementos.\n"
   ]
  },
  {
   "cell_type": "markdown",
   "id": "02-computo-vectorizado-6",
   "metadata": {},
   "source": [
    "## NumPy  \n",
    "\n",
    "<img\n",
    "    src=\"assets/02/NumPy.svg\"\n",
    "    alt=\"triangle with all three sides equal\"\n",
    "    width=\"300\" />  \n",
    "    \n",
    " > 🚨 [Citing NumPy](https://numpy.org/citing-numpy/)  \n",
    " \n",
    "Un paquete con que permite operar con arreglos. Es la pieza central en [SciPy](https://www.scipy.org/).\n",
    "\n",
    "Por convención lo verás (casi siempre) como:  \n",
    "\n",
    "```python\n",
    "import numpy as np\n",
    "```"
   ]
  },
  {
   "cell_type": "code",
   "execution_count": null,
   "id": "02-computo-vectorizado-7",
   "metadata": {},
   "outputs": [],
   "source": [
    "import numpy as np"
   ]
  },
  {
   "cell_type": "markdown",
   "id": "02-computo-vectorizado-8",
   "metadata": {},
   "source": [
    "Creemos un arreglo..."
   ]
  },
  {
   "cell_type": "code",
   "execution_count": null,
   "id": "02-computo-vectorizado-9",
   "metadata": {},
   "outputs": [],
   "source": [
    "my_first_array = np.array([0, 1, 2, 3, 4])\n",
    "print(my_first_array)"
   ]
  },
  {
   "cell_type": "markdown",
   "id": "02-computo-vectorizado-10",
   "metadata": {},
   "source": [
    "## Recordando las propiedades...  "
   ]
  },
  {
   "cell_type": "code",
   "execution_count": null,
   "id": "02-computo-vectorizado-11",
   "metadata": {},
   "outputs": [],
   "source": [
    "my_second_array = np.array([[1, 2], [3, 4], [5, 6]])"
   ]
  },
  {
   "cell_type": "markdown",
   "id": "02-computo-vectorizado-12",
   "metadata": {},
   "source": [
    "### Tipo - `dtype`  \n",
    "\n",
    "Un nombre para *data type*; recuerda: en un *ndarray* todos los valores son del mismo tipo."
   ]
  },
  {
   "cell_type": "code",
   "execution_count": null,
   "id": "02-computo-vectorizado-13",
   "metadata": {},
   "outputs": [],
   "source": [
    "print(my_second_array.dtype)"
   ]
  },
  {
   "cell_type": "markdown",
   "id": "02-computo-vectorizado-14",
   "metadata": {},
   "source": [
    "### Tamaño - `shape`"
   ]
  },
  {
   "cell_type": "code",
   "execution_count": null,
   "id": "02-computo-vectorizado-15",
   "metadata": {},
   "outputs": [],
   "source": [
    "print(my_second_array.shape)"
   ]
  },
  {
   "cell_type": "markdown",
   "id": "02-computo-vectorizado-16",
   "metadata": {},
   "source": [
    "El orden dado es (*filas*, *columnas*, *profundidad*, *???*, ...). \n",
    "\n",
    "$\\begin{matrix}\n",
    "1 & 2  \\\\\n",
    "3 & 4  \\\\\n",
    "5 & 6  \\\\\n",
    "\\end{matrix}$\n",
    "\n",
    "`my_second_array` tiene tres filas, dos columnas."
   ]
  },
  {
   "cell_type": "markdown",
   "id": "02-computo-vectorizado-17",
   "metadata": {},
   "source": [
    "### Creación de arreglos"
   ]
  },
  {
   "cell_type": "markdown",
   "id": "02-computo-vectorizado-18",
   "metadata": {},
   "source": [
    "#### `np.array`  \n",
    "\n",
    "Una de las formas más básicas para crear arreglos es a partir de información existente, por ejemplo, una lista (o una lista de listas):"
   ]
  },
  {
   "cell_type": "code",
   "execution_count": null,
   "id": "02-computo-vectorizado-19",
   "metadata": {},
   "outputs": [],
   "source": [
    "my_list = [9.5, 4.5, 6.3]\n",
    "my_arr = np.array(my_list)\n",
    "print(my_arr, my_arr.dtype, my_arr.shape)"
   ]
  },
  {
   "cell_type": "code",
   "execution_count": null,
   "id": "02-computo-vectorizado-20",
   "metadata": {},
   "outputs": [],
   "source": [
    "multi_dimensional = np.array([[1, 2, 3], [4, 5, 6]])\n",
    "print(multi_dimensional, multi_dimensional.dtype, multi_dimensional.shape)"
   ]
  },
  {
   "cell_type": "markdown",
   "id": "02-computo-vectorizado-21",
   "metadata": {},
   "source": [
    " > ⚠️ **Sobre copiar arreglos...**  \n",
    " > Si necesitamos copiar un arreglo es necesario usar nuevamente `np.array`, o `copy` puesto que los *ndarrays* son mutables y podemos obtener efectos no deseados  "
   ]
  },
  {
   "cell_type": "code",
   "execution_count": null,
   "id": "02-computo-vectorizado-22",
   "metadata": {},
   "outputs": [],
   "source": [
    "# Incorrecto\n",
    "a1 = np.array([0, 1, 2])\n",
    "a2 = a1\n",
    "a1[0] = 5000\n",
    "print(a1)\n",
    "print(a2)"
   ]
  },
  {
   "cell_type": "code",
   "execution_count": null,
   "id": "02-computo-vectorizado-23",
   "metadata": {},
   "outputs": [],
   "source": [
    "# Correcto\n",
    "a1 = np.array([0, 1, 2])\n",
    "a2 = a1.copy()  # o np.array(a1)\n",
    "a1[0] = 5000\n",
    "print(a1)\n",
    "print(a2)"
   ]
  },
  {
   "cell_type": "markdown",
   "id": "02-computo-vectorizado-24",
   "metadata": {},
   "source": [
    "#### Arreglos vacíos  \n",
    "\n",
    "También es común que querramos crear arreglos \"vacíos\" o con valores pre-definidos; en lugar de crear un montón de listas llenas de ceros podemos usar `np.zeros`:"
   ]
  },
  {
   "cell_type": "markdown",
   "id": "02-computo-vectorizado-25",
   "metadata": {},
   "source": [
    "#### `np.zeros`"
   ]
  },
  {
   "cell_type": "code",
   "execution_count": null,
   "id": "02-computo-vectorizado-26",
   "metadata": {},
   "outputs": [],
   "source": [
    "np.zeros((3,))"
   ]
  },
  {
   "cell_type": "code",
   "execution_count": null,
   "id": "02-computo-vectorizado-27",
   "metadata": {},
   "outputs": [],
   "source": [
    "np.zeros((3, 3))"
   ]
  },
  {
   "cell_type": "code",
   "execution_count": null,
   "id": "02-computo-vectorizado-28",
   "metadata": {},
   "outputs": [],
   "source": [
    "np.zeros((1, 2, 3, 4))"
   ]
  },
  {
   "cell_type": "code",
   "execution_count": null,
   "id": "02-computo-vectorizado-29",
   "metadata": {},
   "outputs": [],
   "source": [
    "np.ones((1, 2, 3, 4))"
   ]
  },
  {
   "cell_type": "markdown",
   "id": "02-computo-vectorizado-30",
   "metadata": {},
   "source": [
    "#### `np.ones`"
   ]
  },
  {
   "cell_type": "code",
   "execution_count": null,
   "id": "02-computo-vectorizado-31",
   "metadata": {},
   "outputs": [],
   "source": [
    "np.ones((3,))"
   ]
  },
  {
   "cell_type": "markdown",
   "id": "02-computo-vectorizado-32",
   "metadata": {},
   "source": [
    "#### `np.full`  \n",
    "\n",
    "A veces es útil poder crear un arreglo con un valor *específico*:"
   ]
  },
  {
   "cell_type": "code",
   "execution_count": null,
   "id": "02-computo-vectorizado-33",
   "metadata": {},
   "outputs": [],
   "source": [
    "np.full((1, 2, 3), 1.23)"
   ]
  },
  {
   "cell_type": "markdown",
   "id": "02-computo-vectorizado-34",
   "metadata": {},
   "source": [
    "#### `np.(...)_like`\n",
    "\n",
    "También podemos crear arreglos del mismo tamaño que otros, ya sean llenos con `0`, `1` o cualquier otro valor de preferencia:"
   ]
  },
  {
   "cell_type": "code",
   "execution_count": null,
   "id": "02-computo-vectorizado-35",
   "metadata": {},
   "outputs": [],
   "source": [
    "base = np.array([[0.0, 1], [2, 3]])\n",
    "np.zeros_like(base)"
   ]
  },
  {
   "cell_type": "code",
   "execution_count": null,
   "id": "02-computo-vectorizado-36",
   "metadata": {},
   "outputs": [],
   "source": [
    "np.ones_like(base)"
   ]
  },
  {
   "cell_type": "code",
   "execution_count": null,
   "id": "02-computo-vectorizado-37",
   "metadata": {},
   "outputs": [],
   "source": [
    "np.full_like(base, np.pi)"
   ]
  },
  {
   "cell_type": "markdown",
   "id": "02-computo-vectorizado-38",
   "metadata": {},
   "source": [
    "#### Arreglos aleatorios  \n",
    "\n",
    "El aprendizaje automático tiene un componente de aleatoridad, es necesario saber cómo es que nosotros podemos usar esa aleatoridad. NumPy nos permite crear arreglos aleatorios:"
   ]
  },
  {
   "cell_type": "code",
   "execution_count": null,
   "id": "02-computo-vectorizado-39",
   "metadata": {},
   "outputs": [],
   "source": [
    "np.random.randint(low=0, high=10, size=(3, 3))"
   ]
  },
  {
   "cell_type": "code",
   "execution_count": null,
   "id": "02-computo-vectorizado-40",
   "metadata": {},
   "outputs": [],
   "source": [
    "np.random.uniform(low=1, high=2, size=(2, 3))"
   ]
  },
  {
   "cell_type": "code",
   "execution_count": null,
   "id": "02-computo-vectorizado-41",
   "metadata": {},
   "outputs": [],
   "source": [
    "np.random.normal(loc=0, scale=1, size=(2, 3))"
   ]
  },
  {
   "cell_type": "markdown",
   "id": "02-computo-vectorizado-42",
   "metadata": {},
   "source": [
    "#### Secuencias  \n",
    "\n",
    "Otra de las herramientas muy útiles dentro de *NumPy* es la generación de secuencias incrementales."
   ]
  },
  {
   "cell_type": "markdown",
   "id": "02-computo-vectorizado-43",
   "metadata": {},
   "source": [
    "#### `np.arange`  \n",
    "\n",
    "Una funcionalidad similar a `range` en Python, solo que en lugar de regresar un generador, `np.arange` retorna un *ndarray*:"
   ]
  },
  {
   "cell_type": "code",
   "execution_count": null,
   "id": "02-computo-vectorizado-44",
   "metadata": {},
   "outputs": [],
   "source": [
    "np.arange(10)"
   ]
  },
  {
   "cell_type": "code",
   "execution_count": null,
   "id": "02-computo-vectorizado-45",
   "metadata": {},
   "outputs": [],
   "source": [
    "np.arange(-10, 10)"
   ]
  },
  {
   "cell_type": "code",
   "execution_count": null,
   "id": "02-computo-vectorizado-46",
   "metadata": {},
   "outputs": [],
   "source": [
    "np.arange(start=1, stop=11, step=2)"
   ]
  },
  {
   "cell_type": "code",
   "execution_count": null,
   "id": "02-computo-vectorizado-47",
   "metadata": {},
   "outputs": [],
   "source": [
    "np.arange(start=11, stop=1, step=-2)"
   ]
  },
  {
   "cell_type": "code",
   "execution_count": null,
   "id": "02-computo-vectorizado-48",
   "metadata": {},
   "outputs": [],
   "source": [
    "np.arange(start=1.1, stop=2.1, step=0.1)"
   ]
  },
  {
   "cell_type": "markdown",
   "id": "02-computo-vectorizado-49",
   "metadata": {},
   "source": [
    " > ⚠️ Los límites en `np.arange` son $[start, end)$, es decir, `start` es inclusivo mientras que `end` es exclusivo por default."
   ]
  },
  {
   "cell_type": "markdown",
   "id": "02-computo-vectorizado-50",
   "metadata": {},
   "source": [
    "#### `np.linspace`  \n",
    "\n",
    "Si bien `np.arange` nos permite usar fracciones para determinar el tamaño del incremento; no es la mejor manera para generar sucesiones fraccionarias entre números, para eso podemos usar `np.linspace`"
   ]
  },
  {
   "cell_type": "code",
   "execution_count": null,
   "id": "02-computo-vectorizado-51",
   "metadata": {},
   "outputs": [],
   "source": [
    "np.linspace(0, 5, 5)"
   ]
  },
  {
   "cell_type": "code",
   "execution_count": null,
   "id": "02-computo-vectorizado-52",
   "metadata": {},
   "outputs": [],
   "source": [
    "np.linspace(-10, 10, 15)"
   ]
  },
  {
   "cell_type": "code",
   "execution_count": null,
   "id": "02-computo-vectorizado-53",
   "metadata": {},
   "outputs": [],
   "source": [
    "np.linspace(start=3.5, stop=3.6, num=10)"
   ]
  },
  {
   "cell_type": "markdown",
   "id": "02-computo-vectorizado-54",
   "metadata": {},
   "source": [
    " > ⚠️ A diferencia de `np.arange`, en `np.linspace` los límit4es son $[start, stop]$, es decir, ambos son inclusivos por default."
   ]
  },
  {
   "cell_type": "markdown",
   "id": "02-computo-vectorizado-55",
   "metadata": {},
   "source": [
    "### Indexación  \n",
    "\n",
    "Como cualquier secuencia en Python, los *ndarrays* también nos permiten acceder a los valores individuales que los forman usando la notación `[]`:"
   ]
  },
  {
   "cell_type": "code",
   "execution_count": null,
   "id": "02-computo-vectorizado-56",
   "metadata": {},
   "outputs": [],
   "source": [
    "index_me = np.array([[1, 2, 3], [4, 5, 6], [7, 8, 9]])\n",
    "\n",
    "print(index_me[0])"
   ]
  },
  {
   "cell_type": "code",
   "execution_count": null,
   "id": "02-computo-vectorizado-57",
   "metadata": {},
   "outputs": [],
   "source": [
    "print(index_me[0][1])"
   ]
  },
  {
   "cell_type": "markdown",
   "id": "02-computo-vectorizado-58",
   "metadata": {},
   "source": [
    "Tenemos a nuestra disposición otra sintaxis para realizar indexación múltiple; nos vamos a asistir de la `,`:"
   ]
  },
  {
   "cell_type": "code",
   "execution_count": null,
   "id": "02-computo-vectorizado-59",
   "metadata": {},
   "outputs": [],
   "source": [
    "print(index_me[0, 1])"
   ]
  },
  {
   "cell_type": "markdown",
   "id": "02-computo-vectorizado-60",
   "metadata": {},
   "source": [
    "### *Slicing*  \n",
    "\n",
    " > 🤠 El [slicing](https://docs.python.org/2.3/whatsnew/section-slices.html) en Python es una de las caracterísitcas más interesantes, porque además de permitirnos especificar los puntos de inicio y fin del *slicing*, también nos permite especificar el tamaño del paso a dar. \n",
    " \n",
    "Los *ndarrays* también soportan el *slicing*:"
   ]
  },
  {
   "cell_type": "code",
   "execution_count": null,
   "id": "02-computo-vectorizado-61",
   "metadata": {},
   "outputs": [],
   "source": [
    "index_me[:, :]"
   ]
  },
  {
   "cell_type": "code",
   "execution_count": null,
   "id": "02-computo-vectorizado-62",
   "metadata": {},
   "outputs": [],
   "source": [
    "index_me[:, 0]  # Primera columna"
   ]
  },
  {
   "cell_type": "code",
   "execution_count": null,
   "id": "02-computo-vectorizado-63",
   "metadata": {},
   "outputs": [],
   "source": [
    "index_me[:, 1:]  # Últimas dos columnas"
   ]
  },
  {
   "cell_type": "code",
   "execution_count": null,
   "id": "02-computo-vectorizado-64",
   "metadata": {},
   "outputs": [],
   "source": [
    "index_me[1:, 1:]"
   ]
  },
  {
   "cell_type": "code",
   "execution_count": null,
   "id": "02-computo-vectorizado-65",
   "metadata": {},
   "outputs": [],
   "source": [
    "long_array = np.arange(10, 20)\n",
    "\n",
    "print(long_array)"
   ]
  },
  {
   "cell_type": "code",
   "execution_count": null,
   "id": "02-computo-vectorizado-66",
   "metadata": {},
   "outputs": [],
   "source": [
    "print(long_array[2:6])"
   ]
  },
  {
   "cell_type": "code",
   "execution_count": null,
   "id": "02-computo-vectorizado-67",
   "metadata": {},
   "outputs": [],
   "source": [
    "print(long_array[2:-2])"
   ]
  },
  {
   "cell_type": "code",
   "execution_count": null,
   "id": "02-computo-vectorizado-68",
   "metadata": {},
   "outputs": [],
   "source": [
    "print(long_array[::3])"
   ]
  },
  {
   "cell_type": "code",
   "execution_count": null,
   "id": "02-computo-vectorizado-69",
   "metadata": {},
   "outputs": [],
   "source": [
    "print(long_array[::-1])"
   ]
  },
  {
   "cell_type": "markdown",
   "id": "02-computo-vectorizado-70",
   "metadata": {},
   "source": [
    "### Asignación de valores  \n",
    "\n",
    "A recordar que los *ndarrays* son mutables; podemos cambiar los valores de un arreglo usando indexación y *slicing*"
   ]
  },
  {
   "cell_type": "code",
   "execution_count": null,
   "id": "02-computo-vectorizado-71",
   "metadata": {},
   "outputs": [],
   "source": [
    "arreglo = np.arange(0, 20)\n",
    "\n",
    "print(arreglo)"
   ]
  },
  {
   "cell_type": "code",
   "execution_count": null,
   "id": "02-computo-vectorizado-72",
   "metadata": {},
   "outputs": [],
   "source": [
    "arreglo[0] = -500\n",
    "print(arreglo)"
   ]
  },
  {
   "cell_type": "code",
   "execution_count": null,
   "id": "02-computo-vectorizado-73",
   "metadata": {},
   "outputs": [],
   "source": [
    "arreglo[::2] = -100\n",
    "print(arreglo)"
   ]
  },
  {
   "cell_type": "code",
   "execution_count": null,
   "id": "02-computo-vectorizado-74",
   "metadata": {},
   "outputs": [],
   "source": [
    "arreglo[2:5:] = 0\n",
    "print(arreglo)"
   ]
  },
  {
   "cell_type": "markdown",
   "id": "02-computo-vectorizado-75",
   "metadata": {},
   "source": [
    "### *Playground*\n",
    "\n",
    "<img src=\"assets/02/filip-gielda-VPavA7BBxK0-unsplash.jpg\" />\n",
    "\n",
    "Photo by <a href=\"https://unsplash.com/@filipovsky?utm_source=unsplash&utm_medium=referral&utm_content=creditCopyText\">Filip Gielda</a> on <a href=\"/s/photos/mexico?utm_source=unsplash&utm_medium=referral&utm_content=creditCopyText\">Unsplash</a>\n",
    "  "
   ]
  },
  {
   "cell_type": "code",
   "execution_count": null,
   "id": "02-computo-vectorizado-76",
   "metadata": {},
   "outputs": [],
   "source": [
    "import matplotlib.pyplot as plt\n",
    "import matplotlib.image as mpimg\n",
    "\n",
    "chichen_itza = mpimg.imread(\"assets/02/filip-gielda-VPavA7BBxK0-unsplash.jpg\")\n",
    "print(type(chichen_itza))\n",
    "print(chichen_itza.dtype)\n",
    "print(chichen_itza.shape)\n",
    "\n",
    "plt.imshow(chichen_itza[80:170, 230:400])"
   ]
  },
  {
   "cell_type": "code",
   "execution_count": null,
   "id": "02-computo-vectorizado-77",
   "metadata": {},
   "outputs": [],
   "source": [
    "ci_copy = chichen_itza[80:170, 230:400].copy()\n",
    "ci_copy[::2, ::2, :] = 0\n",
    "plt.imshow(ci_copy)"
   ]
  },
  {
   "cell_type": "code",
   "execution_count": null,
   "id": "02-computo-vectorizado-78",
   "metadata": {},
   "outputs": [],
   "source": [
    "ci_copy = chichen_itza[::4, ::4].copy()\n",
    "plt.imshow(ci_copy)"
   ]
  },
  {
   "cell_type": "markdown",
   "id": "02-computo-vectorizado-79",
   "metadata": {},
   "source": [
    "### Operaciones arreglo-escalar"
   ]
  },
  {
   "cell_type": "code",
   "execution_count": null,
   "id": "02-computo-vectorizado-80",
   "metadata": {},
   "outputs": [],
   "source": [
    "# Suma\n",
    "test1 = np.arange(10, 15)\n",
    "print(test1)\n",
    "print(test1 + 10)"
   ]
  },
  {
   "cell_type": "code",
   "execution_count": null,
   "id": "02-computo-vectorizado-81",
   "metadata": {},
   "outputs": [],
   "source": [
    "# Multiplicaciones\n",
    "print(test1 * 10)\n",
    "print(test1 / 10)"
   ]
  },
  {
   "cell_type": "code",
   "execution_count": null,
   "id": "02-computo-vectorizado-82",
   "metadata": {},
   "outputs": [],
   "source": [
    "# cos, abs, pow\n",
    "test2 = np.arange(-5, 5)\n",
    "print(test2)\n",
    "print(np.abs(test2))\n",
    "print(np.cos(test2))\n",
    "print(np.power(test2, 2))"
   ]
  },
  {
   "cell_type": "markdown",
   "id": "02-computo-vectorizado-83",
   "metadata": {},
   "source": [
    "### Operaciones elemento-elemento"
   ]
  },
  {
   "cell_type": "code",
   "execution_count": null,
   "id": "02-computo-vectorizado-84",
   "metadata": {},
   "outputs": [],
   "source": [
    "# Suma\n",
    "a = np.arange(10, 15)\n",
    "b = np.arange(20, 25)\n",
    "print(a, b)\n",
    "print(a + b)\n",
    "print(a - b)"
   ]
  },
  {
   "cell_type": "code",
   "execution_count": null,
   "id": "02-computo-vectorizado-85",
   "metadata": {},
   "outputs": [],
   "source": [
    "# Multiplicación\n",
    "print(a * b)\n",
    "print(a / b)"
   ]
  },
  {
   "cell_type": "markdown",
   "id": "02-computo-vectorizado-86",
   "metadata": {},
   "source": [
    "### *Broadcasting*  \n",
    "\n",
    "Las operaciones elemento a elemento funcionan **siempre y cuando** los arreglos con los que estamos operando sean del mismo tamaño y forma... ¿pero qué sucede cuando no es así? \n",
    "\n",
    "Aún así podemos realizar operaciones bajo ciertas condiciones en nuestros operandos `x` e `y`:    \n",
    "\n",
    " - Si `x` es un areglo e `y` un escalar, el escalar actúa sobre todos los elementos del arreglo.  \n",
    " - Si `x` e `y` tienen las mismas dimensiones y tamaños, la operación sucede elemento a elemento.   \n",
    " - Si uno de los operandos tiene menos dimensiones que el otro, y las **ultimas dimensiones** del izquierdo coinciden con la forma del operando derecho, las operaciones suceden repitiendo el elemento derecho tantas veces como sea necesario\n",
    " \n",
    "     - `(2, 2) * (2,)` ✅ \n",
    "     - `(1, 2, 3) * (2, 3)` ✅ \n",
    "     - `(10, 20, 20) * (20,)` ✅ \n",
    "     - `(10, 20, 20) * (10,20)` ❌\n",
    "     - `(10,) * (20,)` ❌"
   ]
  },
  {
   "cell_type": "code",
   "execution_count": null,
   "id": "02-computo-vectorizado-87",
   "metadata": {},
   "outputs": [],
   "source": [
    "vector = np.array([1, 2, 3, 4])\n",
    "unos = np.ones((3, 4))\n",
    "print(unos.shape, vector.shape)"
   ]
  },
  {
   "cell_type": "code",
   "execution_count": null,
   "id": "02-computo-vectorizado-88",
   "metadata": {},
   "outputs": [],
   "source": [
    "print(unos + vector)"
   ]
  },
  {
   "cell_type": "code",
   "execution_count": null,
   "id": "02-computo-vectorizado-89",
   "metadata": {},
   "outputs": [],
   "source": [
    "print(unos / vector)"
   ]
  },
  {
   "cell_type": "markdown",
   "id": "02-computo-vectorizado-90",
   "metadata": {},
   "source": [
    "### Transposición\n",
    "\n",
    "Una de las operaciones más comunes sobre matrices es la transposición, *NumPy* ofrece una sintaxis especial: `array.T`:"
   ]
  },
  {
   "cell_type": "code",
   "execution_count": null,
   "id": "02-computo-vectorizado-91",
   "metadata": {},
   "outputs": [],
   "source": [
    "matriz = np.array(\n",
    "    [\n",
    "        [1, 2, 3, 4],\n",
    "        [0, 0, 0, 0],\n",
    "        [1, 2, 3, 4],\n",
    "    ]\n",
    ")\n",
    "\n",
    "print(matriz)\n",
    "print(matriz.T)"
   ]
  },
  {
   "cell_type": "markdown",
   "id": "02-computo-vectorizado-92",
   "metadata": {},
   "source": [
    "### Transformación de arreglos\n",
    "\n",
    " > ❓❓❓ ¿hacemos otro live opcional?"
   ]
  },
  {
   "cell_type": "markdown",
   "id": "02-computo-vectorizado-93",
   "metadata": {},
   "source": [
    "### Indexación \"elegante\"\n",
    "\n",
    "Ya vimos cómo acceder a elementos mediante indexación y *slicing*, pero *NumPy* permite otro tipo de indexación, conocida como 💅*Fancy Indexing* 🎩."
   ]
  },
  {
   "cell_type": "markdown",
   "id": "02-computo-vectorizado-94",
   "metadata": {},
   "source": [
    "#### Arreglos como índices\n",
    "\n",
    "Podemos usar otros arreglos como índices"
   ]
  },
  {
   "cell_type": "code",
   "execution_count": null,
   "id": "02-computo-vectorizado-95",
   "metadata": {},
   "outputs": [],
   "source": [
    "indexing_array = np.array([3, 2, 5, 1, 4])\n",
    "original_array = np.arange(10, 20)\n",
    "\n",
    "print(original_array[indexing_array])"
   ]
  },
  {
   "cell_type": "code",
   "execution_count": null,
   "id": "02-computo-vectorizado-96",
   "metadata": {},
   "outputs": [],
   "source": [
    "indexing_array = np.array([0, 0, 0, 0, 1, 2, 2])\n",
    "print(original_array[indexing_array])"
   ]
  },
  {
   "cell_type": "code",
   "execution_count": null,
   "id": "02-computo-vectorizado-97",
   "metadata": {},
   "outputs": [],
   "source": [
    "indexing_array = np.array([0])\n",
    "print(original_array[indexing_array])"
   ]
  },
  {
   "cell_type": "markdown",
   "id": "02-computo-vectorizado-98",
   "metadata": {},
   "source": [
    "#### Máscaras - booleanos como índices  \n",
    "\n",
    "También podemos usar arreglos booleanos como índices 🤔"
   ]
  },
  {
   "cell_type": "code",
   "execution_count": null,
   "id": "02-computo-vectorizado-99",
   "metadata": {},
   "outputs": [],
   "source": [
    "booleans = [True, False, True, False, False]\n",
    "original_array = np.arange(5)\n",
    "\n",
    "print(original_array)\n",
    "print(original_array[booleans])"
   ]
  },
  {
   "cell_type": "code",
   "execution_count": null,
   "id": "02-computo-vectorizado-100",
   "metadata": {},
   "outputs": [],
   "source": [
    "original_array = np.arange(22)\n",
    "even_numbers = original_array % 2 == 0\n",
    "\n",
    "print(original_array)\n",
    "print(original_array[even_numbers])\n",
    "print(original_array[original_array > 10])"
   ]
  },
  {
   "cell_type": "markdown",
   "id": "02-computo-vectorizado-101",
   "metadata": {},
   "source": [
    "### Agregaciones  \n",
    "\n",
    "Siempre es una buena idea echarle un ojo a algunas caracrerísticas de nuestros datos a través de información agregada o sintetizada."
   ]
  },
  {
   "cell_type": "code",
   "execution_count": null,
   "id": "02-computo-vectorizado-102",
   "metadata": {},
   "outputs": [],
   "source": [
    "bitcoin_prices = np.array(\n",
    "    [\n",
    "        59_295.50,\n",
    "        45_164.00,\n",
    "        33_108.10,\n",
    "        28_949.40,\n",
    "        19_698.10,\n",
    "        13_797.30,\n",
    "        10_776.10,\n",
    "        11_644.20,\n",
    "        11_333.40,\n",
    "        9_135.40,\n",
    "        9_454.80,\n",
    "        8_629.00,\n",
    "        6_412.50,\n",
    "        8_543.70,\n",
    "        9_349.10,\n",
    "        7_196.40,\n",
    "        7_546.60,\n",
    "        9_152.60,\n",
    "        8_284.30,\n",
    "        9_594.40,\n",
    "        10_082.00,\n",
    "        10_818.60,\n",
    "        8_558.30,\n",
    "        5_320.80,\n",
    "        4_102.30,\n",
    "    ]\n",
    ")"
   ]
  },
  {
   "cell_type": "markdown",
   "id": "02-computo-vectorizado-103",
   "metadata": {},
   "source": [
    "#### Estadística - mean, median, desviación estándar  "
   ]
  },
  {
   "cell_type": "code",
   "execution_count": null,
   "id": "02-computo-vectorizado-104",
   "metadata": {},
   "outputs": [],
   "source": [
    "print(np.mean(bitcoin_prices))\n",
    "print(np.median(bitcoin_prices))\n",
    "print(np.std(bitcoin_prices))"
   ]
  },
  {
   "cell_type": "markdown",
   "id": "02-computo-vectorizado-105",
   "metadata": {},
   "source": [
    "#### Mínimos y máximos"
   ]
  },
  {
   "cell_type": "code",
   "execution_count": null,
   "id": "02-computo-vectorizado-106",
   "metadata": {},
   "outputs": [],
   "source": [
    "print(np.max(bitcoin_prices))\n",
    "print(np.min(bitcoin_prices))"
   ]
  },
  {
   "cell_type": "markdown",
   "id": "02-computo-vectorizado-107",
   "metadata": {},
   "source": [
    "#### Agregaciones en *N*-dimensiones"
   ]
  },
  {
   "cell_type": "code",
   "execution_count": null,
   "id": "02-computo-vectorizado-108",
   "metadata": {},
   "outputs": [],
   "source": [
    "ndimensional = np.array(\n",
    "    [\n",
    "        [\n",
    "            [1, 2, 3],\n",
    "            [4, 5, 6],\n",
    "            [7, 8, 9],\n",
    "        ],\n",
    "        [\n",
    "            [1, 2, 3],\n",
    "            [1, 2, 3],\n",
    "            [1, 2, 3],\n",
    "        ],\n",
    "    ]\n",
    ")\n",
    "\n",
    "ndimensional.shape"
   ]
  },
  {
   "cell_type": "code",
   "execution_count": null,
   "id": "02-computo-vectorizado-109",
   "metadata": {},
   "outputs": [],
   "source": [
    "np.mean(ndimensional)"
   ]
  },
  {
   "cell_type": "code",
   "execution_count": null,
   "id": "02-computo-vectorizado-110",
   "metadata": {},
   "outputs": [],
   "source": [
    "axis_0 = np.mean(ndimensional, axis=0)\n",
    "\n",
    "# [[ (1 + 1) / 2, (2 + 2) / 2, (3 + 3) / 2 ]\n",
    "#  [ (4 + 1) / 2, (5 + 2) / 2, (6 + 3) / 2 ]\n",
    "#  [ (7 + 1) / 2, (8 + 2) / 2, (9 + 3) / 2 ]]\n",
    "print(axis_0.shape)\n",
    "print(axis_0)"
   ]
  },
  {
   "cell_type": "code",
   "execution_count": null,
   "id": "02-computo-vectorizado-111",
   "metadata": {},
   "outputs": [],
   "source": [
    "axis_1 = np.mean(ndimensional, axis=1)\n",
    "\n",
    "# [[ (1 + 4 + 7) / 3, (2 + 5 + 8) / 3, (3 + 6 + 9) / 3 ]\n",
    "#  [ (1 + 1 + 1) / 3, (2 + 2 + 2) / 3, (3 + 3 + 4) / 3 ]]\n",
    "print(axis_1.shape)\n",
    "print(axis_1)"
   ]
  },
  {
   "cell_type": "code",
   "execution_count": null,
   "id": "02-computo-vectorizado-112",
   "metadata": {},
   "outputs": [],
   "source": [
    "axis_2 = np.mean(ndimensional, axis=2)\n",
    "\n",
    "# [[ (1 + 2 + 3) / 3, (4 + 5 + 6) / 3, (7 + 8 + 9) / 3 ]\n",
    "#  [ (1 + 2 + 3) / 3, (1 + 2 + 3) / 3, (1 + 2 + 3) / 3 ]]\n",
    "print(axis_2.shape)\n",
    "print(axis_2)"
   ]
  },
  {
   "cell_type": "markdown",
   "id": "02-computo-vectorizado-113",
   "metadata": {},
   "source": [
    "### Persistencia  \n",
    "\n",
    "En algún momento vamos a querer almacenar nuestros arreglos, *NumPy* nos deja hacerlo en forma de archivos de texto (1 y 2 dimensiones):"
   ]
  },
  {
   "cell_type": "code",
   "execution_count": null,
   "id": "02-computo-vectorizado-114",
   "metadata": {},
   "outputs": [],
   "source": [
    "to_save = np.array(\n",
    "    [\n",
    "        [1, 2, 3],\n",
    "        [4, 5, 6],\n",
    "        [7, 8, 9],\n",
    "    ]\n",
    ")\n",
    "\n",
    "np.savetxt(\"multidimensional.txt\", to_save)\n",
    "\n",
    "loaded = np.loadtxt(\"multidimensional.txt\")\n",
    "\n",
    "print(loaded)"
   ]
  },
  {
   "cell_type": "markdown",
   "id": "02-computo-vectorizado-115",
   "metadata": {},
   "source": [
    "### Extra - velocidades"
   ]
  },
  {
   "cell_type": "code",
   "execution_count": null,
   "id": "02-computo-vectorizado-116",
   "metadata": {},
   "outputs": [],
   "source": [
    "a_list = list(range(100_000))\n",
    "b_list = list(range(100_000))\n",
    "\n",
    "a_array = np.array(a_list)\n",
    "b_array = np.array(b_list)\n",
    "\n",
    "\n",
    "def add_list(a, b):\n",
    "    for i in range(len(a)):\n",
    "        a[i] += b[i]\n",
    "\n",
    "\n",
    "def add_array(a, b):\n",
    "    a += b"
   ]
  },
  {
   "cell_type": "code",
   "execution_count": null,
   "id": "02-computo-vectorizado-117",
   "metadata": {},
   "outputs": [],
   "source": [
    "%timeit add_list(a_list,b_list)"
   ]
  },
  {
   "cell_type": "code",
   "execution_count": null,
   "id": "02-computo-vectorizado-118",
   "metadata": {},
   "outputs": [],
   "source": [
    "%timeit add_array(a_list,b_list)"
   ]
  },
  {
   "cell_type": "markdown",
   "id": "02-computo-vectorizado-119",
   "metadata": {},
   "source": [
    "----------\n",
    "\n",
    "## Referencias\n",
    "\n",
    "<table style=\"margin:0; max-width: 1000px;\">\n",
    "    <tbody>\n",
    "        <tr>\n",
    "            <td>\n",
    "                <a href=\"https://thatcsharpguy.com\">\n",
    "                    <img src=\"assets/general/Sharp@1x.png\" />\n",
    "                </a>\n",
    "            </td>\n",
    "            <td>\n",
    "                <a href=\"https://twitter.com/io_exception\">\n",
    "                    <img src=\"assets/general/Twitter@1x.png\" />\n",
    "                </a>\n",
    "            </td>\n",
    "            <td>\n",
    "                <a href=\"https://tcsg.dev/discord\">\n",
    "                    <img src=\"assets/general/Discord@1x.png\" />\n",
    "                </a>\n",
    "            </td>\n",
    "            <td>\n",
    "                <a href=\"https://github.com/thatcsharpguy/df\">\n",
    "                    <img src=\"assets/general/GitHub@1x.png\" />\n",
    "                </a>\n",
    "            </td>\n",
    "            <td>\n",
    "                <a href=\"https://youtube.com/thatcsharpguy\">\n",
    "                    <img src=\"assets/general/YouTube@1x.png\" />\n",
    "                </a>\n",
    "            </td>\n",
    "            <td>\n",
    "                <a href=\"https://youtu.be/iLIQykiASs4\">\n",
    "                    <img src=\"assets/general/EnVivo@1x.png\" />\n",
    "                </a>\n",
    "            </td>\n",
    "            <td>\n",
    "                <a href=\"https://twitch.tv/thatcsharpguy\">\n",
    "                    <img src=\"assets/general/Twitch@1x.png\" />\n",
    "                </a>\n",
    "            </td>\n",
    "        </tr>\n",
    "    </tbody>\n",
    "</table>\n",
    "\n",
    "\n",
    "### Libros  \n",
    "\n",
    " - **Elegant SciPy: The Art of Scientific Python**: [México](https://amzn.to/3c0ZNZM) &middot; [España](https://amzn.to/30WWmge) · [US](https://amzn.to/2PbkbhC)  \n",
    " - **High Performance Python: Practical Performant Programming for Humans**: [México](https://amzn.to/310hEtt) &middot; [España](https://amzn.to/3cVZsXD) · [US](https://amzn.to/3s9eUFW)  \n",
    "\n",
    "\n",
    "### Sitios web  \n",
    "\n",
    " - **From Python to NumPy** - [https://www.labri.fr/perso/nrougier/from-python-to-numpy/](https://www.labri.fr/perso/nrougier/from-python-to-numpy/) \n",
    " - **100 NumPy excercises** - [https://github.com/rougier/numpy-100](https://github.com/rougier/numpy-100)\n",
    " - **NumPy Cheat Sheet — Python for Data Science** - [https://www.dataquest.io/blog/numpy-cheat-sheet/](https://www.dataquest.io/blog/numpy-cheat-sheet/)"
   ]
  }
 ],
 "metadata": {
  "kernelspec": {
   "display_name": "Python 3",
   "language": "python",
   "name": "python3"
  },
  "language_info": {
   "codemirror_mode": {
    "name": "ipython",
    "version": 3
   },
   "file_extension": ".py",
   "mimetype": "text/x-python",
   "name": "python",
   "nbconvert_exporter": "python",
   "pygments_lexer": "ipython3",
   "version": "3.8.6"
  }
 },
 "nbformat": 4,
 "nbformat_minor": 5
}
