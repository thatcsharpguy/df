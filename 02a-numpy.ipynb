{
 "cells": [
  {
   "cell_type": "markdown",
   "id": "02a-numpy-0",
   "metadata": {},
   "source": [
    "# 02a: Más sobre *NumPy*  \n",
    "\n",
    "<table style=\"margin:0; max-width: 1000px;\">\n",
    "    <tbody>\n",
    "        <tr>\n",
    "            <td>\n",
    "                <a href=\"https://thatcsharpguy.com\">\n",
    "                    <img src=\"assets/general/Sharp@1x.png\" />\n",
    "                </a>\n",
    "            </td>\n",
    "            <td>\n",
    "                <a href=\"https://twitter.com/io_exception\">\n",
    "                    <img src=\"assets/general/Twitter@1x.png\" />\n",
    "                </a>\n",
    "            </td>\n",
    "            <td>\n",
    "                <a href=\"https://tcsg.dev/discord\">\n",
    "                    <img src=\"assets/general/Discord@1x.png\" />\n",
    "                </a>\n",
    "            </td>\n",
    "            <td>\n",
    "                <a href=\"https://github.com/thatcsharpguy/df\">\n",
    "                    <img src=\"assets/general/GitHub@1x.png\" />\n",
    "                </a>\n",
    "            </td>\n",
    "            <td>\n",
    "                <a href=\"https://youtube.com/thatcsharpguy\">\n",
    "                    <img src=\"assets/general/YouTube@1x.png\" />\n",
    "                </a>\n",
    "            </td>\n",
    "            <td>\n",
    "                <a href=\"https://youtu.be/0_QIYyMBZN0\">\n",
    "                    <img src=\"assets/general/EnVivo@1x.png\" />\n",
    "                </a>\n",
    "            </td>\n",
    "            <td>\n",
    "                <a href=\"https://twitch.tv/thatcsharpguy\">\n",
    "                    <img src=\"assets/general/Twitch@1x.png\" />\n",
    "                </a>\n",
    "            </td>\n",
    "        </tr>\n",
    "    </tbody>\n",
    "</table>"
   ]
  },
  {
   "cell_type": "markdown",
   "id": "02a-numpy-1",
   "metadata": {},
   "source": [
    "## Paquetes  \n",
    "\n",
    " - `matplotlib`\n",
    " - `numpy`"
   ]
  },
  {
   "cell_type": "code",
   "execution_count": null,
   "id": "02a-numpy-2",
   "metadata": {},
   "outputs": [],
   "source": [
    "import matplotlib.pyplot as plt\n",
    "import matplotlib.image as mpimg\n",
    "import numpy as np"
   ]
  },
  {
   "cell_type": "markdown",
   "id": "02a-numpy-3",
   "metadata": {},
   "source": [
    "### *Playground*\n",
    "\n",
    "<img src=\"assets/02/alfred-kenneally-UsgLeLorRuM-unsplash.jpg\" width=\"600px\" />\n",
    "Photo by <a href=\"https://unsplash.com/@alken?utm_source=unsplash&utm_medium=referral&utm_content=creditCopyText\">Alfred Kenneally</a> on <a href=\"/s/photos/eagle?utm_source=unsplash&utm_medium=referral&utm_content=creditCopyText\">Unsplash</a>"
   ]
  },
  {
   "cell_type": "code",
   "execution_count": null,
   "id": "02a-numpy-4",
   "metadata": {},
   "outputs": [],
   "source": [
    "eagle = mpimg.imread(\"assets/02/alfred-kenneally-UsgLeLorRuM-unsplash.jpg\")\n",
    "plt.imshow(eagle)"
   ]
  },
  {
   "cell_type": "code",
   "execution_count": null,
   "id": "02a-numpy-5",
   "metadata": {},
   "outputs": [],
   "source": [
    "eagle.shape"
   ]
  },
  {
   "cell_type": "markdown",
   "id": "02a-numpy-6",
   "metadata": {},
   "source": [
    "## Flip, rotate"
   ]
  },
  {
   "cell_type": "code",
   "execution_count": null,
   "id": "02a-numpy-7",
   "metadata": {},
   "outputs": [],
   "source": [
    "ej = np.array([[1, 2], [3, 4]])\n",
    "print(ej)\n",
    "np.flipud(ej)"
   ]
  },
  {
   "cell_type": "code",
   "execution_count": null,
   "id": "02a-numpy-8",
   "metadata": {},
   "outputs": [],
   "source": [
    "upside_down = np.flipud(eagle)  # eagle[::-1,...].copy()\n",
    "plt.imshow(upside_down)"
   ]
  },
  {
   "cell_type": "code",
   "execution_count": null,
   "id": "02a-numpy-9",
   "metadata": {},
   "outputs": [],
   "source": [
    "left_to_right = np.fliplr(eagle)  # eagle[:, ::-1].copy()\n",
    "plt.imshow(left_to_right)"
   ]
  },
  {
   "cell_type": "code",
   "execution_count": null,
   "id": "02a-numpy-10",
   "metadata": {},
   "outputs": [],
   "source": [
    "rotated = np.rot90(eagle)\n",
    "plt.imshow(rotated)"
   ]
  },
  {
   "cell_type": "markdown",
   "id": "02a-numpy-11",
   "metadata": {},
   "source": [
    "## Uniendo arreglos   \n",
    "<img src=\"assets/02/stack-concatenate-valid-joining.png\" width=\"50%\" />\n",
    "\n",
    "<img src=\"assets/02/stack-concatenate-invalid-joining.png\" width=\"50%\" />"
   ]
  },
  {
   "cell_type": "code",
   "execution_count": null,
   "id": "02a-numpy-12",
   "metadata": {},
   "outputs": [],
   "source": [
    "v1 = np.full((3,), 1)\n",
    "v2 = np.full((3,), 2)\n",
    "v3 = np.full((3,), 3)\n",
    "print(v1, v2, v3)"
   ]
  },
  {
   "cell_type": "code",
   "execution_count": null,
   "id": "02a-numpy-13",
   "metadata": {},
   "outputs": [],
   "source": [
    "m1 = np.full((3, 3), 1)\n",
    "m2 = np.full((3, 3), 2)\n",
    "m3 = np.full((3, 3), 3)\n",
    "print(m1)\n",
    "print(m2)\n",
    "print(m3)"
   ]
  },
  {
   "cell_type": "markdown",
   "id": "02a-numpy-14",
   "metadata": {},
   "source": [
    "### Concatenación  "
   ]
  },
  {
   "cell_type": "code",
   "execution_count": null,
   "id": "02a-numpy-15",
   "metadata": {},
   "outputs": [],
   "source": [
    "v = np.concatenate((v1, v2))\n",
    "print(v.shape, v)"
   ]
  },
  {
   "cell_type": "code",
   "execution_count": null,
   "id": "02a-numpy-16",
   "metadata": {},
   "outputs": [],
   "source": [
    "v = np.concatenate((v1, v2), axis=0)\n",
    "print(v.shape, v)"
   ]
  },
  {
   "cell_type": "code",
   "execution_count": null,
   "id": "02a-numpy-17",
   "metadata": {},
   "outputs": [],
   "source": [
    "v = np.concatenate((v1, v2, v3), axis=0)\n",
    "print(v.shape, v)"
   ]
  },
  {
   "cell_type": "code",
   "execution_count": null,
   "id": "02a-numpy-18",
   "metadata": {},
   "outputs": [],
   "source": [
    "v = np.concatenate((m1, m2), axis=1)\n",
    "print(v.shape)\n",
    "print(v)"
   ]
  },
  {
   "cell_type": "code",
   "execution_count": null,
   "id": "02a-numpy-19",
   "metadata": {},
   "outputs": [],
   "source": [
    "v = np.concatenate((m1, m2), axis=0)\n",
    "print(v.shape)\n",
    "print(v)"
   ]
  },
  {
   "cell_type": "markdown",
   "id": "02a-numpy-20",
   "metadata": {},
   "source": [
    "### *Stacking*"
   ]
  },
  {
   "cell_type": "code",
   "execution_count": null,
   "id": "02a-numpy-21",
   "metadata": {},
   "outputs": [],
   "source": [
    "# np.stack\n",
    "v = np.stack((v1, v2, v3))\n",
    "print(v.shape)\n",
    "print(v)"
   ]
  },
  {
   "cell_type": "code",
   "execution_count": null,
   "id": "02a-numpy-22",
   "metadata": {},
   "outputs": [],
   "source": [
    "v = np.stack((v1, v2, v3), axis=1)\n",
    "print(v.shape)\n",
    "print(v)"
   ]
  },
  {
   "cell_type": "code",
   "execution_count": null,
   "id": "02a-numpy-23",
   "metadata": {},
   "outputs": [],
   "source": [
    "v = np.hstack((v1, v2, v3))\n",
    "print(v.shape)\n",
    "print(v)"
   ]
  },
  {
   "cell_type": "code",
   "execution_count": null,
   "id": "02a-numpy-24",
   "metadata": {},
   "outputs": [],
   "source": [
    "v = np.vstack((v1, v2, v3))\n",
    "print(v.shape)\n",
    "print(v)"
   ]
  },
  {
   "cell_type": "code",
   "execution_count": null,
   "id": "02a-numpy-25",
   "metadata": {},
   "outputs": [],
   "source": [
    "v = np.dstack((v1, v2, v3))\n",
    "print(v.shape)\n",
    "print(v)"
   ]
  },
  {
   "cell_type": "code",
   "execution_count": null,
   "id": "02a-numpy-26",
   "metadata": {},
   "outputs": [],
   "source": [
    "v = np.dstack((v1, v2, v3))\n",
    "print(v.shape)\n",
    "print(v)"
   ]
  },
  {
   "cell_type": "code",
   "execution_count": null,
   "id": "02a-numpy-27",
   "metadata": {},
   "outputs": [],
   "source": [
    "v = np.stack((m1, m2, m3))\n",
    "print(v.shape)\n",
    "print(v)"
   ]
  },
  {
   "cell_type": "code",
   "execution_count": null,
   "id": "02a-numpy-28",
   "metadata": {},
   "outputs": [],
   "source": [
    "v = np.stack((m1, m2, m3), axis=1)\n",
    "print(v.shape)\n",
    "print(v)"
   ]
  },
  {
   "cell_type": "markdown",
   "id": "02a-numpy-29",
   "metadata": {},
   "source": [
    "### Observaciones sobre unir arreglos  \n",
    "\n",
    " - Concatenamos sobre dimensiones existentes\n",
    " - Apilamos sobre nuevas dimensiones\n"
   ]
  },
  {
   "cell_type": "markdown",
   "id": "02a-numpy-30",
   "metadata": {},
   "source": [
    "## Combinación de transformaciones"
   ]
  },
  {
   "cell_type": "code",
   "execution_count": null,
   "id": "02a-numpy-31",
   "metadata": {},
   "outputs": [],
   "source": [
    "primer_canal = eagle[:, :, 0]\n",
    "plt.imshow(primer_canal, cmap=\"gray\")"
   ]
  },
  {
   "cell_type": "code",
   "execution_count": null,
   "id": "02a-numpy-32",
   "metadata": {},
   "outputs": [],
   "source": [
    "half_image = primer_canal[: len(primer_canal) // 4 * 3]\n",
    "plt.imshow(half_image, cmap=\"gray\")\n",
    "print(half_image.shape)"
   ]
  },
  {
   "cell_type": "code",
   "execution_count": null,
   "id": "02a-numpy-33",
   "metadata": {},
   "outputs": [],
   "source": [
    "new_image = np.dstack(\n",
    "    [half_image, np.zeros_like(half_image), half_image]  # Rojo  # Verde  # Azul\n",
    ")\n",
    "plt.imshow(new_image)"
   ]
  },
  {
   "cell_type": "code",
   "execution_count": null,
   "id": "02a-numpy-34",
   "metadata": {},
   "outputs": [],
   "source": [
    "upside_down = np.flipud(new_image)\n",
    "left_to_right = np.fliplr(upside_down)\n",
    "two_eagle = np.concatenate((new_image, left_to_right))\n",
    "plt.figure(figsize=(15, 15))\n",
    "plt.imshow(two_eagle)"
   ]
  },
  {
   "cell_type": "code",
   "execution_count": null,
   "id": "02a-numpy-35",
   "metadata": {},
   "outputs": [],
   "source": [
    "ejemplo = np.array([[1, 2, 3, 4], [5, 6, 7, 8]])\n",
    "print(ejemplo)\n",
    "np.roll(ejemplo, (1, -2), axis=(0, 1))"
   ]
  },
  {
   "cell_type": "code",
   "execution_count": null,
   "id": "02a-numpy-36",
   "metadata": {},
   "outputs": [],
   "source": [
    "plt.figure(figsize=(10, 10))\n",
    "shift = 100\n",
    "shifted_left = np.roll(new_image, shift, axis=(1))\n",
    "shifted_right = np.roll(left_to_right, -shift, axis=(1))\n",
    "two_eagle = np.concatenate((shifted_left, shifted_right))\n",
    "plt.imshow(two_eagle)"
   ]
  },
  {
   "cell_type": "code",
   "execution_count": null,
   "id": "02a-numpy-37",
   "metadata": {},
   "outputs": [],
   "source": [
    "color_change_1 = np.roll(shifted_left, 2, axis=(2))\n",
    "color_change_2 = np.roll(shifted_right, 1, axis=(2))\n",
    "color_change_2 = np.where(color_change_2 < 30, 0, color_change_2)\n",
    "two_eagle = np.concatenate((color_change_1, color_change_2))\n",
    "plt.figure(figsize=(10, 10))\n",
    "plt.imshow(two_eagle)"
   ]
  },
  {
   "cell_type": "markdown",
   "id": "02a-numpy-38",
   "metadata": {},
   "source": [
    "## `np.where`"
   ]
  },
  {
   "cell_type": "code",
   "execution_count": null,
   "id": "02a-numpy-39",
   "metadata": {},
   "outputs": [],
   "source": [
    "array = np.ones((5, 4)) * np.array([1, 2, 3, 4])\n",
    "array_neg = np.ones((5, 4)) * np.array([1, 2, 3, 4]) * -9\n",
    "print(array)\n",
    "print(array_neg)"
   ]
  },
  {
   "cell_type": "code",
   "execution_count": null,
   "id": "02a-numpy-40",
   "metadata": {},
   "outputs": [],
   "source": [
    "np.where(array % 2 == 0, 100, -800)"
   ]
  },
  {
   "cell_type": "markdown",
   "id": "02a-numpy-41",
   "metadata": {},
   "source": [
    "## `np.nonzero`  \n"
   ]
  },
  {
   "cell_type": "code",
   "execution_count": null,
   "id": "02a-numpy-42",
   "metadata": {},
   "outputs": [],
   "source": [
    "array = np.array([[1, 0, 0], [0, 2, 0], [3, 4, 0]])\n",
    "array"
   ]
  },
  {
   "cell_type": "code",
   "execution_count": null,
   "id": "02a-numpy-43",
   "metadata": {},
   "outputs": [],
   "source": [
    "columnas, filas = np.nonzero(array)\n",
    "\n",
    "for x, y in zip(columnas, filas):\n",
    "    print(f\"({x}, {y})\", array[x, y])"
   ]
  },
  {
   "cell_type": "markdown",
   "id": "02a-numpy-44",
   "metadata": {},
   "source": [
    "## Ordenación"
   ]
  },
  {
   "cell_type": "markdown",
   "id": "02a-numpy-45",
   "metadata": {},
   "source": [
    "### *Sort*  \n",
    "\n",
    "Crea una **copia ordenada** del arreglo que recibe como parámetro. Quicksort es el algoritmo usado por default."
   ]
  },
  {
   "cell_type": "code",
   "execution_count": null,
   "id": "02a-numpy-46",
   "metadata": {},
   "outputs": [],
   "source": [
    "arreglo = np.random.randint(0, 30, size=(6, 6))\n",
    "print(arreglo)"
   ]
  },
  {
   "cell_type": "code",
   "execution_count": null,
   "id": "02a-numpy-47",
   "metadata": {},
   "outputs": [],
   "source": [
    "np.sort(arreglo[0])"
   ]
  },
  {
   "cell_type": "code",
   "execution_count": null,
   "id": "02a-numpy-48",
   "metadata": {},
   "outputs": [],
   "source": [
    "copia = np.array(arreglo[0])\n",
    "print(copia)\n",
    "copia.sort()  # In Place\n",
    "print(copia)"
   ]
  },
  {
   "cell_type": "code",
   "execution_count": null,
   "id": "02a-numpy-49",
   "metadata": {},
   "outputs": [],
   "source": [
    "np.sort(arreglo, axis=1)"
   ]
  },
  {
   "cell_type": "markdown",
   "id": "02a-numpy-50",
   "metadata": {},
   "source": [
    "### `np.argsort`"
   ]
  },
  {
   "cell_type": "code",
   "execution_count": null,
   "id": "02a-numpy-51",
   "metadata": {},
   "outputs": [],
   "source": [
    "arreglo[0]"
   ]
  },
  {
   "cell_type": "code",
   "execution_count": null,
   "id": "02a-numpy-52",
   "metadata": {},
   "outputs": [],
   "source": [
    "indices = np.argsort(arreglo[0])\n",
    "print(indices)"
   ]
  },
  {
   "cell_type": "code",
   "execution_count": null,
   "id": "02a-numpy-53",
   "metadata": {},
   "outputs": [],
   "source": [
    "[4, 4, 5, 23, 26, 26]"
   ]
  },
  {
   "cell_type": "code",
   "execution_count": null,
   "id": "02a-numpy-54",
   "metadata": {},
   "outputs": [],
   "source": [
    "print(arreglo[0][indices])"
   ]
  },
  {
   "cell_type": "markdown",
   "id": "02a-numpy-55",
   "metadata": {},
   "source": [
    "## `np.argmax` y `np.argmin` "
   ]
  },
  {
   "cell_type": "code",
   "execution_count": null,
   "id": "02a-numpy-56",
   "metadata": {},
   "outputs": [],
   "source": [
    "arreglo[0]"
   ]
  },
  {
   "cell_type": "code",
   "execution_count": null,
   "id": "02a-numpy-57",
   "metadata": {},
   "outputs": [],
   "source": [
    "maximo = np.argmax(arreglo[0])\n",
    "minimo = np.argmin(arreglo[0])\n",
    "print(maximo, minimo)\n",
    "print(arreglo[0][maximo], arreglo[0][minimo])"
   ]
  },
  {
   "cell_type": "code",
   "execution_count": null,
   "id": "02a-numpy-58",
   "metadata": {},
   "outputs": [],
   "source": [
    "arreglo"
   ]
  },
  {
   "cell_type": "code",
   "execution_count": null,
   "id": "02a-numpy-59",
   "metadata": {},
   "outputs": [],
   "source": [
    "np.argmin(arreglo, axis=1)"
   ]
  },
  {
   "cell_type": "markdown",
   "id": "02a-numpy-60",
   "metadata": {},
   "source": [
    "## Vectorización  \n",
    "Ya hablamos de la vectorización... pero, ¿cómo es que podemos aplicar esto en *\"la realidad*\"?\n",
    "\n",
    "### \"Regla de oro\"  \n",
    "\n",
    "#### 🚫 `for` 🚫   \n",
    "\n",
    "El objetivo de la vectorización es, entre otras cosas, evitar el programar ciclos explícitamente.\n",
    "\n",
    " - Analiza las variables de entrada\n",
    " - Genera arreglos auxiliares\n",
    " - Aplica las operaciones\n",
    " - Recolecta los resultados\n",
    "\n",
    "### Alternativas al `if`  "
   ]
  },
  {
   "cell_type": "code",
   "execution_count": null,
   "id": "02a-numpy-61",
   "metadata": {},
   "outputs": [],
   "source": [
    "sample = np.random.uniform(-20, 20, (15,))\n",
    "print(sample)"
   ]
  },
  {
   "cell_type": "markdown",
   "id": "02a-numpy-62",
   "metadata": {},
   "source": [
    "#### `np.where`  "
   ]
  },
  {
   "cell_type": "code",
   "execution_count": null,
   "id": "02a-numpy-63",
   "metadata": {},
   "outputs": [],
   "source": [
    "copy = sample.copy()\n",
    "\n",
    "threshold = 2\n",
    "\n",
    "for i in range(len(copy)):\n",
    "    if copy[i] < threshold:\n",
    "        copy[i] *= 10\n",
    "print(copy)"
   ]
  },
  {
   "cell_type": "code",
   "execution_count": null,
   "id": "02a-numpy-64",
   "metadata": {},
   "outputs": [],
   "source": [
    "copy = sample.copy()\n",
    "print(np.where(copy < threshold, copy * 10, copy))"
   ]
  },
  {
   "cell_type": "markdown",
   "id": "02a-numpy-65",
   "metadata": {},
   "source": [
    "#### `np.maximum`"
   ]
  },
  {
   "cell_type": "code",
   "execution_count": null,
   "id": "02a-numpy-66",
   "metadata": {},
   "outputs": [],
   "source": [
    "copy = sample.copy()"
   ]
  },
  {
   "cell_type": "code",
   "execution_count": null,
   "id": "02a-numpy-67",
   "metadata": {},
   "outputs": [],
   "source": [
    "print(np.maximum(copy, 0))"
   ]
  },
  {
   "cell_type": "markdown",
   "id": "02a-numpy-68",
   "metadata": {},
   "source": [
    "#### `np.clip`"
   ]
  },
  {
   "cell_type": "code",
   "execution_count": null,
   "id": "02a-numpy-69",
   "metadata": {},
   "outputs": [],
   "source": [
    "print(np.clip(copy, -6, 6))"
   ]
  },
  {
   "cell_type": "markdown",
   "id": "02a-numpy-70",
   "metadata": {},
   "source": [
    "#### `np.isnan`"
   ]
  },
  {
   "cell_type": "code",
   "execution_count": null,
   "id": "02a-numpy-71",
   "metadata": {},
   "outputs": [],
   "source": [
    "aa = np.array([np.nan, 10, 15, np.nan, 16])\n",
    "promedio = aa[~np.isnan(aa)].mean()\n",
    "np.where(np.isnan(aa), promedio, aa)"
   ]
  },
  {
   "cell_type": "code",
   "execution_count": null,
   "id": "02a-numpy-72",
   "metadata": {},
   "outputs": [],
   "source": [
    "print(~np.isnan(aa))\n",
    "print(np.isnan(aa))"
   ]
  },
  {
   "cell_type": "markdown",
   "id": "02a-numpy-73",
   "metadata": {},
   "source": [
    "## Ecuaciones\n",
    "\n",
    "### Sumatorias (y acumulacionse en general)  \n",
    "\n",
    "Imagina una ecuación así\n",
    "\n",
    "$$\\sum_{i=0}^{} \\cos(x_i^{2})$$\n"
   ]
  },
  {
   "cell_type": "code",
   "execution_count": null,
   "id": "02a-numpy-74",
   "metadata": {},
   "outputs": [],
   "source": [
    "x = np.random.uniform(0, 1, 10)\n",
    "\n",
    "np.sum(np.cos(x ** 2))"
   ]
  },
  {
   "cell_type": "markdown",
   "id": "02a-numpy-75",
   "metadata": {},
   "source": [
    "Supongamos que el índice del elemento $i$ aparece dentro del cuerpo de la sumatoria:\n",
    "\n",
    "\n",
    "$$\\sum_{i=0}^{} \\cos(x_i) * i$$\n",
    "\n",
    "\n",
    "La solución es generar un arreglo con el índice $i$ de antemano:"
   ]
  },
  {
   "cell_type": "code",
   "execution_count": null,
   "id": "02a-numpy-76",
   "metadata": {},
   "outputs": [],
   "source": [
    "i = np.arange(len(x))\n",
    "print(i)\n",
    "np.sum(np.cos(x) * i)"
   ]
  },
  {
   "cell_type": "markdown",
   "id": "02a-numpy-77",
   "metadata": {},
   "source": [
    "----------\n",
    "\n",
    "## Referencias\n",
    "\n",
    "<table style=\"margin:0; max-width: 1000px;\">\n",
    "    <tbody>\n",
    "        <tr>\n",
    "            <td>\n",
    "                <a href=\"https://thatcsharpguy.com\">\n",
    "                    <img src=\"assets/general/Sharp@1x.png\" />\n",
    "                </a>\n",
    "            </td>\n",
    "            <td>\n",
    "                <a href=\"https://twitter.com/io_exception\">\n",
    "                    <img src=\"assets/general/Twitter@1x.png\" />\n",
    "                </a>\n",
    "            </td>\n",
    "            <td>\n",
    "                <a href=\"https://tcsg.dev/discord\">\n",
    "                    <img src=\"assets/general/Discord@1x.png\" />\n",
    "                </a>\n",
    "            </td>\n",
    "            <td>\n",
    "                <a href=\"https://github.com/thatcsharpguy/df\">\n",
    "                    <img src=\"assets/general/GitHub@1x.png\" />\n",
    "                </a>\n",
    "            </td>\n",
    "            <td>\n",
    "                <a href=\"https://youtube.com/thatcsharpguy\">\n",
    "                    <img src=\"assets/general/YouTube@1x.png\" />\n",
    "                </a>\n",
    "            </td>\n",
    "            <td>\n",
    "                <a href=\"https://youtu.be/0_QIYyMBZN0\">\n",
    "                    <img src=\"assets/general/EnVivo@1x.png\" />\n",
    "                </a>\n",
    "            </td>\n",
    "            <td>\n",
    "                <a href=\"https://twitch.tv/thatcsharpguy\">\n",
    "                    <img src=\"assets/general/Twitch@1x.png\" />\n",
    "                </a>\n",
    "            </td>\n",
    "        </tr>\n",
    "    </tbody>\n",
    "</table>\n",
    "\n",
    "\n",
    "### Libros  \n",
    "\n",
    " - **Elegant SciPy: The Art of Scientific Python**: [México](https://amzn.to/3c0ZNZM) &middot; [España](https://amzn.to/30WWmge) · [US](https://amzn.to/2PbkbhC)  \n",
    " - **High Performance Python: Practical Performant Programming for Humans**: [México](https://amzn.to/310hEtt) &middot; [España](https://amzn.to/3cVZsXD) · [US](https://amzn.to/3s9eUFW)  \n",
    "\n",
    "\n",
    "### Sitios web  \n",
    "\n",
    " - **From Python to NumPy** - [https://www.labri.fr/perso/nrougier/from-python-to-numpy/](https://www.labri.fr/perso/nrougier/from-python-to-numpy/) \n",
    " - **100 NumPy excercises** - [https://github.com/rougier/numpy-100](https://github.com/rougier/numpy-100)\n",
    " - **NumPy Cheat Sheet — Python for Data Science** - [https://www.dataquest.io/blog/numpy-cheat-sheet/](https://www.dataquest.io/blog/numpy-cheat-sheet/)\n",
    " - **Chapter 3  Numerical calculations with NumPy** - [http://kestrel.nmt.edu/~raymond/software/python_notes/paper003.html](http://kestrel.nmt.edu/~raymond/software/python_notes/paper003.html)"
   ]
  }
 ],
 "metadata": {
  "kernelspec": {
   "display_name": "Python 3",
   "language": "python",
   "name": "python3"
  },
  "language_info": {
   "codemirror_mode": {
    "name": "ipython",
    "version": 3
   },
   "file_extension": ".py",
   "mimetype": "text/x-python",
   "name": "python",
   "nbconvert_exporter": "python",
   "pygments_lexer": "ipython3",
   "version": "3.8.2"
  }
 },
 "nbformat": 4,
 "nbformat_minor": 5
}
