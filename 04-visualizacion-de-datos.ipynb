{
 "cells": [
  {
   "cell_type": "markdown",
   "id": "04-visualizacion-de-datos-0",
   "metadata": {},
   "source": [
    "# 04: Visualización de datos\n",
    "\n",
    "<table style=\"margin:0; max-width: 1000px;\">\n",
    "    <tbody>\n",
    "        <tr>\n",
    "            <td>\n",
    "                <a href=\"https://thatcsharpguy.com\">\n",
    "                    <img src=\"assets/general/Sharp@1x.png\" />\n",
    "                </a>\n",
    "            </td>\n",
    "            <td>\n",
    "                <a href=\"https://twitter.com/io_exception\">\n",
    "                    <img src=\"assets/general/Twitter@1x.png\" />\n",
    "                </a>\n",
    "            </td>\n",
    "            <td>\n",
    "                <a href=\"https://tcsg.dev/discord\">\n",
    "                    <img src=\"assets/general/Discord@1x.png\" />\n",
    "                </a>\n",
    "            </td>\n",
    "            <td>\n",
    "                <a href=\"https://github.com/thatcsharpguy/df\">\n",
    "                    <img src=\"assets/general/GitHub@1x.png\" />\n",
    "                </a>\n",
    "            </td>\n",
    "            <td>\n",
    "                <a href=\"https://youtube.com/thatcsharpguy\">\n",
    "                    <img src=\"assets/general/YouTube@1x.png\" />\n",
    "                </a>\n",
    "            </td>\n",
    "            <td>\n",
    "                <a href=\"https://youtu.be/7vZY6JdswKs\">\n",
    "                    <img src=\"assets/general/EnVivo@1x.png\" />\n",
    "                </a>\n",
    "            </td>\n",
    "            <td>\n",
    "                <a href=\"https://twitch.tv/thatcsharpguy\">\n",
    "                    <img src=\"assets/general/Twitch@1x.png\" />\n",
    "                </a>\n",
    "            </td>\n",
    "        </tr>\n",
    "    </tbody>\n",
    "</table>"
   ]
  },
  {
   "cell_type": "markdown",
   "id": "04-visualizacion-de-datos-1",
   "metadata": {},
   "source": [
    "## Paquetes  \n",
    "\n",
    " - `numpy`\n",
    " - `matplotlib`\n",
    " - `seaborn`\n",
    " - `pandas`\n"
   ]
  },
  {
   "cell_type": "code",
   "execution_count": null,
   "id": "04-visualizacion-de-datos-2",
   "metadata": {},
   "outputs": [],
   "source": [
    "import numpy as np\n",
    "import pandas as pd"
   ]
  },
  {
   "cell_type": "markdown",
   "id": "04-visualizacion-de-datos-3",
   "metadata": {},
   "source": [
    "## ¿Qué es la visualización de datos?\n",
    "\n",
    "Es la representación gráfica de información y datos para consumo humano. Se usa para transformar conceptos abstractos como números, vectores, matrices... en gráficas de las cuales una persona puede observar patrones, tendencias, anomalías... y en generar extraer información sobre el elemento que se está intentando interpretar.  \n",
    "\n",
    "Algunos de los objetivos de la visualización son: \n",
    "\n",
    " - Presentar relaciones y estructuras en los datos\n",
    " - Resumir grandes cantidades de datos\n",
    " - Resolver preguntas específicas\n",
    " \n",
    "\n",
    "### Algunas gráficas  \n",
    "\n",
    "<img src=\"assets/04/chart-types.png\" style=\"max-width: 1000px\" />\n",
    "\n",
    "<small>↖[Top 2500 feelings](http://www.wefeelfine.org/press/pdfs-high-res/236-237.pdf), ↙ [Junk Charts](https://junkcharts.typepad.com/junk_charts/2011/04/worst-statistical-graphic-nominated.html), ↗[William Playfair](https://www.historyofinformation.com/detail.php?entryid=2929), ↘[A Tour Through the Visualization Zoo](https://homes.cs.washington.edu/~jheer//files/zoo/)</small>\n",
    "\n",
    " - **Poco informativas**: Poco claras, engañosas, innecesarias\n",
    " - **Informativas**: Concisas, simples, correctass\n",
    " - **Atractivas**: Innovadoras, coloridas, estéticas\n",
    " - **No Atractivas**: Sobrecargadas, aburridas, pobre estructura\n",
    "\n",
    " > ⚠️ Nos vamos a enfocar en gráficas de información tabular bidimensionales"
   ]
  },
  {
   "cell_type": "markdown",
   "id": "04-visualizacion-de-datos-4",
   "metadata": {},
   "source": [
    "## *Layered Grammar of Graphics*  \n",
    "\n",
    "Las gráficas pueden ser expresadas en términos de un \"lenguaje gráfico\". Este lenguaje nos ayuda no solo especificando cómo convertir datos a imágenes, sino que también ayuda a los lectores a a interpretar y extraer información de las gráficas. Podemos extraer un ejemplo de este lenguaje del libro **Layered Grammar of Graphics** por Hadley Wickham. \n",
    "\n",
    "### Partes de una gráfica\n",
    "\n",
    " - **Stat** es información estadística obtenida de los datos; esta información es representda visualmente con la intención de resumir los datos. El promedio, y la desviación estandar o un histograma son ejemplos de **stats**.\n",
    "\n",
    " - **Mapping** es una transformación de datos abstractos a un elemento visual; Toma un atributo de nuestros datos (puede ser inclusive un **stat**) y lo representa de forma visual usando una **scale** y **guide** para dotar de unidades a dicho atributo.   \n",
    " \n",
    "     - **Scale** especifica la transformación de los datos a valores visuales, por ejemplo, *Escala de Richter* al tamaño de un circulo en pantalla, o *Altura de una persona* a tamaño de una barra en la pantalla.\n",
    "     \n",
    "     - **Guide** especifica una referencia visual que le da sentido al **mapping**, nos dice cuál es la escala y el atributo que se está tratando de representar. Por ejemplo, las anotaciones en los ejes y las layendas que especifican qué significan los colores en una gráfica.\n",
    "\n",
    " - **Geom** es la representación geométrica de la información después de haber pasado por el **mapping**. Ejemplos son las líneas y puntos visibles en cada gráfica.  \n",
    " \n",
    " - **Coord** es el sistema de coordenadas en el que se presenta la información; coordina cómo es que se muestran los **geoms** y las **guides** en nuestra gráfica.  \n",
    " \n",
    " - **Layer** agrupa un conjunto de **geoms**, cada **layer** contienen un **coord**. Podemos apilar múltiples **layers** en un mismo sistema de coordenadas.\n",
    " \n",
    " - **Facet** agrupa un comjunto de **layers**, representa una \"vista diferente\" de un mismo conjunto de datos.\n",
    " \n",
    " - **Figure** agrupa un conjunto de **facets**  \n",
    " \n",
    " - **Título** y **leyenda** cada figura estar acompañada de una explicación\n",
    " \n",
    "<img src=\"assets/04/grammar-of-graphics.png\" />"
   ]
  },
  {
   "cell_type": "markdown",
   "id": "04-visualizacion-de-datos-5",
   "metadata": {},
   "source": [
    "## Anatomía de una figura\n",
    "\n",
    "<img src=\"assets/04/sphx_glr_anatomy_001.webp\" style=\"max-width: 600px\" />\n",
    "<small>Anatomy of a figure <a href=\"https://matplotlib.org/stable/gallery/showcase/anatomy.html\">https://matplotlib.org/stable/gallery/showcase/anatomy.html</a></small> "
   ]
  },
  {
   "cell_type": "markdown",
   "id": "04-visualizacion-de-datos-6",
   "metadata": {},
   "source": [
    "## Matplotlib y Seaborn \n",
    "\n",
    "`matplotlib` es la biblioteca en la cual se centra todo el contenido de ahora en adelante. Pero matplotlib es solo la herramienta; los conceptos deben trascender independientemente de qué herramienta termines utilizando. \n",
    "\n",
    "### Sobre Matplotlib  \n",
    "\n",
    "Es la piedra angular de múltiples paquetes de visualización existentes, es poderosa pero compleja; no se trata de decidir entre una y la otra muchas veces para lograr la visualización perfecta tenemos que usar algo como *seaborn* para el 90% de la gráfica y *matplotlib* para los detalles.\n",
    "\n",
    "<img src=\"assets/04/landscape-colors.png\" style=\"max-width: 1000px\" />\n",
    "<small>Adaptation of Jake VanderPlas graphic about the Python visualization landscape, by Nicolas P. Rougier</small> \n",
    "\n",
    "### ¿Mi recomendación?  \n",
    "\n",
    "Usa ambas, comienza las gráficas con `matplotlib`, créalas con la biblioteca de tu elección y terminalas con `matplotlib`.  \n",
    "\n",
    " > Matplotlib tiene dos interfaces: una basada en estado (herencia de MATLAB) y la orientada a objetos. Vamos a usar la API orientada a objetos. Como siempre, la clave es la consistencia, **elije una y úsala siempre**."
   ]
  },
  {
   "cell_type": "code",
   "execution_count": null,
   "id": "04-visualizacion-de-datos-7",
   "metadata": {},
   "outputs": [],
   "source": [
    "import matplotlib.pyplot as plt\n",
    "import seaborn as sns"
   ]
  },
  {
   "cell_type": "code",
   "execution_count": null,
   "id": "04-visualizacion-de-datos-8",
   "metadata": {},
   "outputs": [],
   "source": [
    "np.random.seed(42)\n",
    "x = np.arange(100)\n",
    "y1 = (0.1 * x) ** 2 + np.random.uniform(-20, 20, size=(100,))\n",
    "y2 = (0.05 * x) ** 2 + np.random.uniform(-20, 20, size=(100,))"
   ]
  },
  {
   "cell_type": "markdown",
   "id": "04-visualizacion-de-datos-9",
   "metadata": {},
   "source": [
    "### API basada en estado"
   ]
  },
  {
   "cell_type": "code",
   "execution_count": null,
   "id": "04-visualizacion-de-datos-10",
   "metadata": {},
   "outputs": [],
   "source": [
    "plt.figure(figsize=(10, 5), dpi=75)\n",
    "# figzize (ancho, alto) en pulgadas\n",
    "# dpi - dots-per-inch\n",
    "plt.scatter(x, y1, label=\"Clase 1\")\n",
    "plt.scatter(x, y2, label=\"Clase 2\")\n",
    "plt.title(\"Datos artificiales\")\n",
    "plt.xlabel(\"Eje X\")\n",
    "plt.ylabel(\"Eje Y\")\n",
    "plt.legend()"
   ]
  },
  {
   "cell_type": "markdown",
   "id": "04-visualizacion-de-datos-11",
   "metadata": {},
   "source": [
    "### API orientada a objetos"
   ]
  },
  {
   "cell_type": "code",
   "execution_count": null,
   "id": "04-visualizacion-de-datos-12",
   "metadata": {},
   "outputs": [],
   "source": [
    "fig = plt.figure(figsize=(10, 5), dpi=75)\n",
    "ax = fig.gca()\n",
    "ax.scatter(x, y1, label=\"Clase 1\")\n",
    "ax.scatter(x, y2, label=\"Clase 2\")\n",
    "ax.set_title(\"Datos artificiales\")\n",
    "ax.set_xlabel(\"Eje X\")\n",
    "ax.set_ylabel(\"Eje Y\")\n",
    "ax.legend()"
   ]
  },
  {
   "cell_type": "markdown",
   "id": "04-visualizacion-de-datos-13",
   "metadata": {},
   "source": [
    "### Seaborn"
   ]
  },
  {
   "cell_type": "code",
   "execution_count": null,
   "id": "04-visualizacion-de-datos-14",
   "metadata": {},
   "outputs": [],
   "source": [
    "fig = plt.figure(figsize=(10, 5), dpi=75)\n",
    "ax = fig.gca()\n",
    "sns.scatterplot(x=x, y=y1, label=\"Clase 1\", ax=ax)\n",
    "sns.scatterplot(x=x, y=y2, label=\"Clase 2\", ax=ax)\n",
    "ax.set_title(\"Datos artificiales\")\n",
    "ax.set_xlabel(\"Eje X\")\n",
    "ax.set_ylabel(\"Eje Y\")\n",
    "ax.legend()"
   ]
  },
  {
   "cell_type": "markdown",
   "id": "04-visualizacion-de-datos-15",
   "metadata": {},
   "source": [
    "## Gráficas en 2D  \n",
    "\n",
    "Las gráficas más efectivas son las que muestran pocas variables y las relaciones que existen entre ellas. Mira el ejemplo de arriba, existe una relación entre `x` e `y1`, `y2`. Para graficar la relación, la entrada a nuestra función para graficar son los vectores `x` e `y1` y `x` e `y2`.  \n",
    "\n",
    "Usualmente, la variable **independiente** se coloca en el eje horizontal (el de las *equis*) mientras que la variable **dependiente** en el eje vertical (el de las *yes*)."
   ]
  },
  {
   "cell_type": "code",
   "execution_count": null,
   "id": "04-visualizacion-de-datos-16",
   "metadata": {},
   "outputs": [],
   "source": [
    "x = np.array([1, 2, 3, 4])\n",
    "y = np.array([5, 6, 7, 8])"
   ]
  },
  {
   "cell_type": "markdown",
   "id": "04-visualizacion-de-datos-17",
   "metadata": {},
   "source": [
    "### Scatterplot"
   ]
  },
  {
   "cell_type": "code",
   "execution_count": null,
   "id": "04-visualizacion-de-datos-18",
   "metadata": {},
   "outputs": [],
   "source": [
    "fig = plt.figure(figsize=(7, 3), dpi=75)\n",
    "ax = fig.gca()\n",
    "sns.scatterplot(x=x, y=y, ax=ax)"
   ]
  },
  {
   "cell_type": "markdown",
   "id": "04-visualizacion-de-datos-19",
   "metadata": {},
   "source": [
    "### De barras"
   ]
  },
  {
   "cell_type": "code",
   "execution_count": null,
   "id": "04-visualizacion-de-datos-20",
   "metadata": {},
   "outputs": [],
   "source": [
    "fig = plt.figure(figsize=(7, 3), dpi=75)\n",
    "ax = fig.gca()\n",
    "ax.bar(x, y)"
   ]
  },
  {
   "cell_type": "markdown",
   "id": "04-visualizacion-de-datos-21",
   "metadata": {},
   "source": [
    "### Línea  "
   ]
  },
  {
   "cell_type": "code",
   "execution_count": null,
   "id": "04-visualizacion-de-datos-22",
   "metadata": {},
   "outputs": [],
   "source": [
    "fig = plt.figure(figsize=(7, 3), dpi=75)\n",
    "ax = fig.gca()\n",
    "sns.lineplot(x=x, y=y)"
   ]
  },
  {
   "cell_type": "markdown",
   "id": "04-visualizacion-de-datos-23",
   "metadata": {},
   "source": [
    "## Stats  \n",
    "\n",
    "Como ya vimos un *stat* es una forma de resumir la información presentada en una gráfica, entre estas operaciones tenemos:  \n",
    "\n",
    " - Binning: consiste en cateogrizar datos en un conjunto de *cubetas*\n",
    " - Agregaciones estadísticas: promedio, mediana, desviación estandar...\n",
    " - Suavizado y regresión: trata de encontrar una función que se aproxime a representar nuestro dataset"
   ]
  },
  {
   "cell_type": "markdown",
   "id": "04-visualizacion-de-datos-24",
   "metadata": {},
   "source": [
    "### Histogramas"
   ]
  },
  {
   "cell_type": "code",
   "execution_count": null,
   "id": "04-visualizacion-de-datos-25",
   "metadata": {},
   "outputs": [],
   "source": [
    "x = np.random.normal(0, 1, 300)\n",
    "bins = np.linspace(-3, 3, 20)"
   ]
  },
  {
   "cell_type": "code",
   "execution_count": null,
   "id": "04-visualizacion-de-datos-26",
   "metadata": {},
   "outputs": [],
   "source": [
    "fig = plt.figure()\n",
    "ax = fig.add_subplot(1, 1, 1)\n",
    "ax.hist(x, bins=bins)\n",
    "ax.set_xlabel(\"Bin\")\n",
    "ax.set_ylabel(\"Count\")"
   ]
  },
  {
   "cell_type": "code",
   "execution_count": null,
   "id": "04-visualizacion-de-datos-27",
   "metadata": {},
   "outputs": [],
   "source": [
    "fig = plt.figure()\n",
    "ax = fig.add_subplot(1, 1, 1)\n",
    "# sns.histplot(x = x, bins=bins, ax = ax, element=\"step\", fill=False)\n",
    "sns.histplot(x=x, bins=bins, ax=ax)\n",
    "ax.set_xlabel(\"Bin\")\n",
    "ax.set_ylabel(\"Count\")"
   ]
  },
  {
   "cell_type": "markdown",
   "id": "04-visualizacion-de-datos-28",
   "metadata": {},
   "source": [
    "### Histogramas en 2D  \n",
    "\n",
    "<img src=\"assets/04/spotify.png\" />\n",
    "<small>Mi año en Spotify <a href=\"https://tacosdedatos.com/mas-data-viz-con-spotify-python\">https://tacosdedatos.com/mas-data-viz-con-spotify-python</a></small>  \n",
    "\n",
    " > Calculating optimal number of bins in a histogram [https://stats.stackexchange.com/a/862](https://stats.stackexchange.com/a/862)"
   ]
  },
  {
   "cell_type": "markdown",
   "id": "04-visualizacion-de-datos-29",
   "metadata": {},
   "source": [
    "### Agregaciones estadísticas"
   ]
  },
  {
   "cell_type": "code",
   "execution_count": null,
   "id": "04-visualizacion-de-datos-30",
   "metadata": {},
   "outputs": [],
   "source": [
    "flights = sns.load_dataset(\"flights\")\n",
    "flights.head()"
   ]
  },
  {
   "cell_type": "code",
   "execution_count": null,
   "id": "04-visualizacion-de-datos-31",
   "metadata": {},
   "outputs": [],
   "source": [
    "fig = plt.figure()\n",
    "ax = fig.add_subplot(1, 1, 1)\n",
    "sns.lineplot(data=flights, x=\"year\", y=\"passengers\", ax=ax)\n",
    "ax.set_xlabel(\"Año\")\n",
    "ax.set_ylabel(\"Pasajeros\")"
   ]
  },
  {
   "cell_type": "markdown",
   "id": "04-visualizacion-de-datos-32",
   "metadata": {},
   "source": [
    "### Box plot  \n",
    "\n",
    "Es una gráfica interesantísima y muy útil que muestra múltiples **stats** de un conjunto de datos, se presenta en forma de un solo dibujo (**geom**).  \n",
    "\n",
    "Los valores mostrados son:  \n",
    "\n",
    " - **Rango intercuartil**, el rango entre los percentiles 25% y 75% del dataset\n",
    " - **Mediana**\n",
    " - **Extremos**, representanlos percentiles 2.5% y 97.5% \n",
    " - **Outlier** o anomalías"
   ]
  },
  {
   "cell_type": "code",
   "execution_count": null,
   "id": "04-visualizacion-de-datos-33",
   "metadata": {},
   "outputs": [],
   "source": [
    "x = np.random.normal(0, 1, 100)\n",
    "fig = plt.figure(figsize=(10, 5), dpi=150)\n",
    "ax = fig.gca()\n",
    "ax.boxplot(x, whis=[2.5, 97.5])\n",
    "percentiles = np.percentile(x, [2.5, 25, 50, 75, 98.5])\n",
    "min_x, max_x = np.min(x), np.max(x)\n",
    "\n",
    "\n",
    "def annotate(y, text, left=False):\n",
    "    offset = 80 if left else -130\n",
    "    touch = 1.08 if left else 0.92\n",
    "    ax.annotate(\n",
    "        xy=(touch, y),\n",
    "        text=text,\n",
    "        xytext=(offset, 0),\n",
    "        va=\"center\",\n",
    "        textcoords=\"offset points\",\n",
    "        arrowprops=dict(arrowstyle=\"->\", color=\"C2\", alpha=0.5),\n",
    "    )\n",
    "\n",
    "\n",
    "annotate(min_x, \"Anomalía (mínimo)\")\n",
    "annotate(max_x, \"Anomalía (máximo)\")\n",
    "annotate(percentiles[0], \"Extremo menor\", True)\n",
    "annotate(percentiles[1], \"Percentil 25%\", True)\n",
    "annotate(percentiles[2], \"Mediana\")\n",
    "annotate(percentiles[3], \"Percentil 75%\", True)\n",
    "annotate(percentiles[4], \"Extremo mayor\", True)\n",
    "ax.set_xlabel(\"Valores\")\n",
    "ax.set_ylabel(\"Eje X\")\n",
    "ax.set_title(\"Box plot\")"
   ]
  },
  {
   "cell_type": "code",
   "execution_count": null,
   "id": "04-visualizacion-de-datos-34",
   "metadata": {},
   "outputs": [],
   "source": [
    "# Con seaborn\n",
    "fig = plt.figure(figsize=(10, 5), dpi=150)\n",
    "ax = fig.gca()\n",
    "sns.boxplot(x=\"month\", y=\"passengers\", data=flights, ax=ax)\n",
    "ax.set_xlabel(\"Mes\")\n",
    "ax.set_ylabel(\"Pasajeros\")\n",
    "ax.set_title(\"Vuelos\")"
   ]
  },
  {
   "cell_type": "markdown",
   "id": "04-visualizacion-de-datos-35",
   "metadata": {},
   "source": [
    "### Violin plot  \n",
    "\n",
    "Son una extensión de las Box Plots que muestran la distribución de los datos de forma precisa usando una función llamada *Kernel Density Estimate*:"
   ]
  },
  {
   "cell_type": "code",
   "execution_count": null,
   "id": "04-visualizacion-de-datos-36",
   "metadata": {},
   "outputs": [],
   "source": [
    "# Con seaborn\n",
    "fig = plt.figure(figsize=(10, 5), dpi=150)\n",
    "ax = fig.gca()\n",
    "sns.violinplot(x=\"month\", y=\"passengers\", data=flights, ax=ax)\n",
    "ax.set_xlabel(\"Mes\")\n",
    "ax.set_ylabel(\"Pasajeros\")\n",
    "ax.set_title(\"Vuelos\")"
   ]
  },
  {
   "cell_type": "markdown",
   "id": "04-visualizacion-de-datos-37",
   "metadata": {},
   "source": [
    "### Regresión\n",
    "\n",
    "La regresión es una operación que involucra el encontrar una función que pueda representar nuestros datos."
   ]
  },
  {
   "cell_type": "code",
   "execution_count": null,
   "id": "04-visualizacion-de-datos-38",
   "metadata": {},
   "outputs": [],
   "source": [
    "tips = sns.load_dataset(\"tips\")\n",
    "plt.figure(figsize=(10, 5), dpi=75)\n",
    "ax = sns.regplot(x=\"total_bill\", y=\"tip\", data=tips)\n",
    "ax.set_xlabel(\"Total cuenta\")\n",
    "ax.set_ylabel(\"Propina\")"
   ]
  },
  {
   "cell_type": "markdown",
   "id": "04-visualizacion-de-datos-39",
   "metadata": {},
   "source": [
    "### Smoothing\n",
    "\n",
    "De manera similar, el suavizado encuentra una versión simplificada para representar nuestros datos."
   ]
  },
  {
   "cell_type": "markdown",
   "id": "04-visualizacion-de-datos-40",
   "metadata": {},
   "source": [
    "## Geoms"
   ]
  },
  {
   "cell_type": "markdown",
   "id": "04-visualizacion-de-datos-41",
   "metadata": {},
   "source": [
    "### Marcadores o *Markers*\n",
    "\n",
    "Los *markers* son un ejemplo de *geom* que podemos usar para representar puntos en la gráfica. Los podemos usar para dotar de información a nuestra gráfica:"
   ]
  },
  {
   "cell_type": "code",
   "execution_count": null,
   "id": "04-visualizacion-de-datos-42",
   "metadata": {},
   "outputs": [],
   "source": [
    "seasons = {\n",
    "    \"Invierno\": [\"Dec\", \"Jan\", \"Feb\"],\n",
    "    \"Primavera\": [\"Mar\", \"Apr\", \"May\"],\n",
    "    \"Verano\": [\"Jun\", \"Jul\", \"Aug\"],\n",
    "    \"Otoño\": [\"Sep\", \"Oct\", \"Nov\"],\n",
    "}\n",
    "seasons_months = {\n",
    "    season: month for month, seasons in seasons.items() for season in seasons\n",
    "}\n",
    "flights[\"season\"] = flights[\"month\"].map(seasons_months)\n",
    "agg_flights = flights.groupby([\"year\", \"season\"])[\"passengers\"].sum().reset_index()\n",
    "vuelos = {\n",
    "    season: agg_flights.query(f\"season == '{season}'\") for season in seasons.keys()\n",
    "}"
   ]
  },
  {
   "cell_type": "code",
   "execution_count": null,
   "id": "04-visualizacion-de-datos-43",
   "metadata": {},
   "outputs": [],
   "source": [
    "fig = plt.figure(figsize=(10, 5), dpi=150)\n",
    "ax = fig.gca()\n",
    "ax.scatter(\n",
    "    vuelos[\"Invierno\"][\"year\"],\n",
    "    vuelos[\"Invierno\"][\"passengers\"],\n",
    "    label=\"Invierno\",\n",
    "    marker=\"+\",\n",
    "    color=\"black\",\n",
    ")\n",
    "ax.scatter(\n",
    "    vuelos[\"Primavera\"][\"year\"],\n",
    "    vuelos[\"Primavera\"][\"passengers\"],\n",
    "    label=\"Primavera\",\n",
    "    marker=\"X\",\n",
    "    color=\"black\",\n",
    ")\n",
    "ax.scatter(\n",
    "    vuelos[\"Verano\"][\"year\"],\n",
    "    vuelos[\"Verano\"][\"passengers\"],\n",
    "    label=\"Verano\",\n",
    "    marker=\"*\",\n",
    "    color=\"black\",\n",
    ")\n",
    "ax.scatter(\n",
    "    vuelos[\"Otoño\"][\"year\"],\n",
    "    vuelos[\"Otoño\"][\"passengers\"],\n",
    "    label=\"Otoño\",\n",
    "    marker=\"$❄$\",\n",
    "    color=\"black\",\n",
    ")\n",
    "ax.legend()\n",
    "ax.set_title(\"Pasajeros por temporada\")\n",
    "ax.set_xlabel(\"Año\")\n",
    "ax.set_ylabel(\"Pasajeros\")"
   ]
  },
  {
   "cell_type": "markdown",
   "id": "04-visualizacion-de-datos-44",
   "metadata": {},
   "source": [
    "Revisa la documentación de matplotlib sobre los marcadores disponibles: [Marker reference](https://matplotlib.org/stable/gallery/lines_bars_and_markers/marker_reference.html)."
   ]
  },
  {
   "cell_type": "code",
   "execution_count": null,
   "id": "04-visualizacion-de-datos-45",
   "metadata": {},
   "outputs": [],
   "source": [
    "fig = plt.figure(figsize=(10, 5), dpi=150)\n",
    "ax = fig.gca()\n",
    "ax.scatter(\n",
    "    vuelos[\"Invierno\"][\"year\"],\n",
    "    vuelos[\"Invierno\"][\"passengers\"],\n",
    "    label=\"Invierno\",\n",
    "    marker=\"+\",\n",
    "    color=\"blue\",\n",
    ")\n",
    "ax.scatter(\n",
    "    vuelos[\"Primavera\"][\"year\"],\n",
    "    vuelos[\"Primavera\"][\"passengers\"],\n",
    "    label=\"Primavera\",\n",
    "    marker=\"X\",\n",
    "    color=\"green\",\n",
    ")\n",
    "ax.scatter(\n",
    "    vuelos[\"Verano\"][\"year\"],\n",
    "    vuelos[\"Verano\"][\"passengers\"],\n",
    "    label=\"Verano\",\n",
    "    marker=\"*\",\n",
    "    color=\"orange\",\n",
    ")\n",
    "ax.scatter(\n",
    "    vuelos[\"Otoño\"][\"year\"],\n",
    "    vuelos[\"Otoño\"][\"passengers\"],\n",
    "    label=\"Otoño\",\n",
    "    marker=\"$❄$\",\n",
    "    color=\"brown\",\n",
    ")\n",
    "ax.legend()\n",
    "ax.set_title(\"Pasajeros por temporada\")\n",
    "ax.set_xlabel(\"Año\")\n",
    "ax.set_ylabel(\"Pasajeros\")"
   ]
  },
  {
   "cell_type": "markdown",
   "id": "04-visualizacion-de-datos-46",
   "metadata": {},
   "source": [
    "### Usando marcadores para mostrar más variables"
   ]
  },
  {
   "cell_type": "markdown",
   "id": "04-visualizacion-de-datos-47",
   "metadata": {},
   "source": [
    "#### Terremotos en México  \n",
    "\n",
    "(Tal vez no es el mejor ejemplo, pero vamos a tratar de sacarle jugo) Te invito a ver otra visualización que hice con este mismo dataset en [Tacos De Datos](https://tacosdedatos.com/visualizando-temblores-joyplots)."
   ]
  },
  {
   "cell_type": "code",
   "execution_count": null,
   "id": "04-visualizacion-de-datos-48",
   "metadata": {},
   "outputs": [],
   "source": [
    "terremotos = pd.read_csv(\n",
    "    \"assets/04/SSNMX_catalogo_20170101_20180101.csv\",\n",
    "    engine=\"python\",\n",
    "    skiprows=4,\n",
    "    skipfooter=7,\n",
    ")\n",
    "terremotos = terremotos[[\"Latitud\", \"Longitud\", \"Magnitud\", \"Profundidad\"]]\n",
    "terremotos = terremotos.query(\"Magnitud > 2.0\")\n",
    "terremotos = terremotos.query(\"Latitud < 22.0\")\n",
    "terremotos.head()"
   ]
  },
  {
   "cell_type": "code",
   "execution_count": null,
   "id": "04-visualizacion-de-datos-49",
   "metadata": {},
   "outputs": [],
   "source": [
    "fig = plt.figure(figsize=(7, 6), dpi=150)\n",
    "ax = fig.add_subplot(1, 1, 1)\n",
    "ax.scatter(terremotos[\"Longitud\"], terremotos[\"Latitud\"])\n",
    "ax.set_title(\"Terremotos en México\")\n",
    "ax.set_xlabel(\"Longitud\")\n",
    "ax.set_ylabel(\"Latitud\")"
   ]
  },
  {
   "cell_type": "code",
   "execution_count": null,
   "id": "04-visualizacion-de-datos-50",
   "metadata": {},
   "outputs": [],
   "source": [
    "def add_magnitud_legend(ax, etiquetas, magnitudes_reales):\n",
    "    ls = []\n",
    "    for scale in magnitudes_reales:\n",
    "        l = ax.scatter([], [], s=scale, edgecolors=\"none\", facecolors=\"C0\")\n",
    "        ls.append(l)\n",
    "    leg = ax.legend(\n",
    "        ls,\n",
    "        etiquetas,\n",
    "        ncol=len(etiquetas),\n",
    "        frameon=True,\n",
    "        fontsize=12,\n",
    "        handlelength=2,\n",
    "        loc=8,\n",
    "        borderpad=1,\n",
    "        handletextpad=1,\n",
    "        title=\"Magnitud\",\n",
    "        scatterpoints=1,\n",
    "    )"
   ]
  },
  {
   "cell_type": "code",
   "execution_count": null,
   "id": "04-visualizacion-de-datos-51",
   "metadata": {},
   "outputs": [],
   "source": [
    "fig = plt.figure(figsize=(8, 6), dpi=150)\n",
    "ax = fig.add_subplot(1, 1, 1)\n",
    "\n",
    "magnitudes = np.linspace(4, 7, 4)\n",
    "magnitudes_reales = (magnitudes[:-1] - 3) * 30\n",
    "etiquetas = [f\">{number:.2f}\" for number in magnitudes[:-1]]\n",
    "\n",
    "\n",
    "puntos = ax.scatter(\n",
    "    terremotos[\"Longitud\"],\n",
    "    terremotos[\"Latitud\"],\n",
    "    s=(terremotos[\"Magnitud\"] - 3) * 30,\n",
    "    alpha=0.2,\n",
    ")\n",
    "\n",
    "ax.set_title(\"Terremotos en México\")\n",
    "ax.set_xlabel(\"Longitud\")\n",
    "ax.set_ylabel(\"Latitud\")\n",
    "ax.set_ylim((terremotos[\"Latitud\"].min() - 2, terremotos[\"Latitud\"].max() + 0.5))\n",
    "\n",
    "add_magnitud_legend(ax, etiquetas, magnitudes_reales)"
   ]
  },
  {
   "cell_type": "code",
   "execution_count": null,
   "id": "04-visualizacion-de-datos-52",
   "metadata": {},
   "outputs": [],
   "source": [
    "fig = plt.figure(figsize=(8, 6), dpi=150)\n",
    "ax = fig.add_subplot(1, 1, 1)\n",
    "\n",
    "magnitudes = np.linspace(4, 7, 4)\n",
    "magnitudes_reales = (magnitudes[:-1] - 3) * 30\n",
    "etiquetas = [f\">{number:.2f}\" for number in magnitudes[:-1]]\n",
    "\n",
    "\n",
    "puntos = ax.scatter(\n",
    "    terremotos[\"Longitud\"],\n",
    "    terremotos[\"Latitud\"],\n",
    "    s=(terremotos[\"Magnitud\"] - 3) * 30,\n",
    "    c=terremotos[\"Profundidad\"],\n",
    ")\n",
    "\n",
    "ax.set_facecolor(\"black\")\n",
    "ax.set_title(\"Terremotos en México\")\n",
    "ax.set_xlabel(\"Longitud\")\n",
    "ax.set_ylabel(\"Latitud\")\n",
    "ax.set_ylim((terremotos[\"Latitud\"].min() - 2, terremotos[\"Latitud\"].max() + 0.5))\n",
    "cb = fig.colorbar(puntos)\n",
    "cb.set_label(\"Kilómetros\")\n",
    "\n",
    "add_magnitud_legend(ax, etiquetas, magnitudes_reales)"
   ]
  },
  {
   "cell_type": "markdown",
   "id": "04-visualizacion-de-datos-53",
   "metadata": {},
   "source": [
    "### Mapas de colores  \n",
    "\n",
    "<img src=\"assets/04/unsigned.jpg\" />\n",
    "\n",
    "<img src=\"assets/04/unsigned-2d.jpg\" />\n",
    "\n",
    "<img src=\"assets/04/signed.jpg\" />\n",
    "\n",
    "<img src=\"assets/04/categories.jpg\" />\n",
    "\n",
    "<img src=\"assets/04/misc.jpg\" />\n",
    "\n",
    "Enlace a las gráficas [https://matplotlib.org/2.0.2/examples/color/colormaps_reference.html](https://matplotlib.org/2.0.2/examples/color/colormaps_reference.html)\n",
    "\n",
    "\n",
    "### Más colores  \n",
    "\n",
    "Uno puede definir sus propios mapas de colores, esta página te pude servir como inspiración para crear tus propias paletas [https://colorbrewer2.org](https://colorbrewer2.org)."
   ]
  },
  {
   "cell_type": "code",
   "execution_count": null,
   "id": "04-visualizacion-de-datos-54",
   "metadata": {},
   "outputs": [],
   "source": [
    "fig = plt.figure(figsize=(8, 6), dpi=150)\n",
    "ax = fig.add_subplot(1, 1, 1)\n",
    "\n",
    "magnitudes = np.linspace(4, 7, 4)\n",
    "magnitudes_reales = (magnitudes[:-1] - 3) * 30\n",
    "etiquetas = [f\">{number:.2f}\" for number in magnitudes[:-1]]\n",
    "\n",
    "\n",
    "puntos = ax.scatter(\n",
    "    terremotos[\"Longitud\"],\n",
    "    terremotos[\"Latitud\"],\n",
    "    s=(terremotos[\"Magnitud\"] - 3) * 30,\n",
    "    c=terremotos[\"Profundidad\"],\n",
    "    cmap=\"YlOrRd\",\n",
    ")\n",
    "\n",
    "ax.set_facecolor(\"black\")\n",
    "ax.set_title(\"Terremotos en México\")\n",
    "ax.set_xlabel(\"Longitud\")\n",
    "ax.set_ylabel(\"Latitud\")\n",
    "ax.set_ylim((terremotos[\"Latitud\"].min() - 2, terremotos[\"Latitud\"].max() + 0.5))\n",
    "cb = fig.colorbar(puntos)\n",
    "cb.set_label(\"Kilómetros\")\n",
    "\n",
    "add_magnitud_legend(ax, etiquetas, magnitudes_reales)"
   ]
  },
  {
   "cell_type": "markdown",
   "id": "04-visualizacion-de-datos-55",
   "metadata": {},
   "source": [
    "#### Uso de colores  \n",
    "\n",
    " > 🚨 Ten en cuenta que a veces las gráficas que hagas pueden ser impresas en escala de grises o blanco y negro.  \n",
    " \n",
    " > 🚨 Ten en cuenta hay personas con alguna deficiencia en la percepción de colores: es decir, a veces los colores no lo son todo en las gráficas."
   ]
  },
  {
   "cell_type": "markdown",
   "id": "04-visualizacion-de-datos-56",
   "metadata": {},
   "source": [
    "### Líneas  \n",
    "\n",
    "Son otra forma de **geoms** que unen puntos. Usamos líneas cuando queremos representar que hay algo entre dos puntos (una relación, por ejemplo)."
   ]
  },
  {
   "cell_type": "markdown",
   "id": "04-visualizacion-de-datos-57",
   "metadata": {},
   "source": [
    "#### Diferentes estilos de líneas  \n",
    "\n",
    "Podemos usar el grosor (`linewidth`) y color (`color`) de una línea para diferenciar entre distintas variables:"
   ]
  },
  {
   "cell_type": "code",
   "execution_count": null,
   "id": "04-visualizacion-de-datos-58",
   "metadata": {},
   "outputs": [],
   "source": [
    "fig = plt.figure(figsize=(10, 5), dpi=150)\n",
    "ax = fig.gca()\n",
    "ax.plot(\n",
    "    vuelos[\"Invierno\"][\"year\"],\n",
    "    vuelos[\"Invierno\"][\"passengers\"],\n",
    "    label=\"Invierno\",\n",
    "    marker=\"+\",\n",
    "    color=\"blue\",\n",
    "    linewidth=0.5,\n",
    ")\n",
    "ax.plot(\n",
    "    vuelos[\"Primavera\"][\"year\"],\n",
    "    vuelos[\"Primavera\"][\"passengers\"],\n",
    "    label=\"Primavera\",\n",
    "    marker=\"X\",\n",
    "    color=\"green\",\n",
    "    linewidth=1,\n",
    ")\n",
    "ax.plot(\n",
    "    vuelos[\"Verano\"][\"year\"],\n",
    "    vuelos[\"Verano\"][\"passengers\"],\n",
    "    label=\"Verano\",\n",
    "    marker=\"*\",\n",
    "    color=\"orange\",\n",
    "    linewidth=2,\n",
    ")\n",
    "ax.plot(\n",
    "    vuelos[\"Otoño\"][\"year\"],\n",
    "    vuelos[\"Otoño\"][\"passengers\"],\n",
    "    label=\"Otoño\",\n",
    "    marker=\"x\",\n",
    "    color=\"brown\",\n",
    "    linewidth=4,\n",
    ")\n",
    "ax.legend()\n",
    "ax.set_title(\"Pasajeros por temporada\")\n",
    "ax.set_xlabel(\"Año\")\n",
    "ax.set_ylabel(\"Pasajeros\")"
   ]
  },
  {
   "cell_type": "markdown",
   "id": "04-visualizacion-de-datos-59",
   "metadata": {},
   "source": [
    "Podemos usar distintos estilos de líneas (`linestyle`):"
   ]
  },
  {
   "cell_type": "code",
   "execution_count": null,
   "id": "04-visualizacion-de-datos-60",
   "metadata": {},
   "outputs": [],
   "source": [
    "fig = plt.figure(figsize=(10, 5), dpi=100)\n",
    "ax = fig.gca()\n",
    "\n",
    "ax.plot(\n",
    "    vuelos[\"Invierno\"][\"year\"],\n",
    "    vuelos[\"Invierno\"][\"passengers\"],\n",
    "    label=\"Invierno\",\n",
    "    marker=\"+\",\n",
    "    color=\"blue\",\n",
    "    linestyle=\"--\",\n",
    "    linewidth=2,\n",
    ")\n",
    "\n",
    "ax.plot(\n",
    "    vuelos[\"Primavera\"][\"year\"],\n",
    "    vuelos[\"Primavera\"][\"passengers\"],\n",
    "    label=\"Primavera\",\n",
    "    marker=\"X\",\n",
    "    color=\"green\",\n",
    "    linestyle=\":\",\n",
    "    linewidth=2,\n",
    ")\n",
    "ax.plot(\n",
    "    vuelos[\"Verano\"][\"year\"],\n",
    "    vuelos[\"Verano\"][\"passengers\"],\n",
    "    label=\"Verano\",\n",
    "    marker=\"*\",\n",
    "    color=\"orange\",\n",
    "    linestyle=\"-\",\n",
    "    linewidth=2,\n",
    ")\n",
    "ax.plot(\n",
    "    vuelos[\"Otoño\"][\"year\"],\n",
    "    vuelos[\"Otoño\"][\"passengers\"],\n",
    "    label=\"Otoño\",\n",
    "    marker=\"$❄$\",\n",
    "    color=\"brown\",\n",
    "    linestyle=\"-.\",\n",
    "    linewidth=2,\n",
    ")\n",
    "ax.legend()\n",
    "ax.set_title(\"Pasajeros por temporada\")\n",
    "ax.set_xlabel(\"Año\")\n",
    "ax.set_ylabel(\"Pasajeros\")"
   ]
  },
  {
   "cell_type": "code",
   "execution_count": null,
   "id": "04-visualizacion-de-datos-61",
   "metadata": {},
   "outputs": [],
   "source": [
    "fig = plt.figure(figsize=(10, 5), dpi=100)\n",
    "ax = fig.gca()\n",
    "\n",
    "sns.lineplot(\n",
    "    x=\"year\",\n",
    "    y=\"passengers\",\n",
    "    data=flights,\n",
    "    estimator=np.sum,\n",
    "    ci=None,\n",
    "    hue=\"season\",\n",
    "    ax=ax,\n",
    ")\n",
    "\n",
    "ax.legend()\n",
    "ax.set_title(\"Pasajeros por temporada\")\n",
    "ax.set_xlabel(\"Año\")\n",
    "ax.set_ylabel(\"Pasajeros\")"
   ]
  },
  {
   "cell_type": "markdown",
   "id": "04-visualizacion-de-datos-62",
   "metadata": {},
   "source": [
    "Podemos usar transparencia `alpha` para resaltar elementos que merezcan llamar la atención:"
   ]
  },
  {
   "cell_type": "code",
   "execution_count": null,
   "id": "04-visualizacion-de-datos-63",
   "metadata": {},
   "outputs": [],
   "source": [
    "fig = plt.figure(figsize=(10, 5), dpi=100)\n",
    "ax = fig.gca()\n",
    "\n",
    "mean = pd.DataFrame(\n",
    "    {season: vuelos[season][\"passengers\"].reset_index(drop=True) for season in seasons}\n",
    ").mean(axis=1)\n",
    "\n",
    "ax.plot(\n",
    "    vuelos[\"Otoño\"][\"year\"],\n",
    "    mean,\n",
    "    label=\"Promedio\",\n",
    "    marker=\"$o$\",\n",
    "    color=\"black\",\n",
    "    linestyle=\"-\",\n",
    "    linewidth=2,\n",
    ")\n",
    "\n",
    "ax.plot(\n",
    "    vuelos[\"Invierno\"][\"year\"],\n",
    "    vuelos[\"Invierno\"][\"passengers\"],\n",
    "    label=\"Invierno\",\n",
    "    marker=\"+\",\n",
    "    color=\"blue\",\n",
    "    linestyle=\"--\",\n",
    "    linewidth=2,\n",
    "    alpha=0.2,\n",
    ")\n",
    "ax.plot(\n",
    "    vuelos[\"Primavera\"][\"year\"],\n",
    "    vuelos[\"Primavera\"][\"passengers\"],\n",
    "    label=\"Primavera\",\n",
    "    marker=\"X\",\n",
    "    color=\"green\",\n",
    "    linestyle=\":\",\n",
    "    linewidth=2,\n",
    "    alpha=0.2,\n",
    ")\n",
    "ax.plot(\n",
    "    vuelos[\"Verano\"][\"year\"],\n",
    "    vuelos[\"Verano\"][\"passengers\"],\n",
    "    label=\"Verano\",\n",
    "    marker=\"*\",\n",
    "    color=\"orange\",\n",
    "    linestyle=\"-\",\n",
    "    linewidth=2,\n",
    "    alpha=0.2,\n",
    ")\n",
    "ax.plot(\n",
    "    vuelos[\"Otoño\"][\"year\"],\n",
    "    vuelos[\"Otoño\"][\"passengers\"],\n",
    "    label=\"Otoño\",\n",
    "    marker=\"$❄$\",\n",
    "    color=\"brown\",\n",
    "    linestyle=\"-.\",\n",
    "    linewidth=2,\n",
    "    alpha=0.2,\n",
    ")\n",
    "\n",
    "ax.legend()\n",
    "ax.set_title(\"Pasajeros por temporada\")\n",
    "ax.set_xlabel(\"Año\")\n",
    "ax.set_ylabel(\"Pasajeros\")"
   ]
  },
  {
   "cell_type": "markdown",
   "id": "04-visualizacion-de-datos-64",
   "metadata": {},
   "source": [
    "### Gráficas de barras"
   ]
  },
  {
   "cell_type": "code",
   "execution_count": null,
   "id": "04-visualizacion-de-datos-65",
   "metadata": {},
   "outputs": [],
   "source": [
    "fig = plt.figure(figsize=(10, 5), dpi=100)\n",
    "ax = fig.gca()\n",
    "\n",
    "sns.barplot(\n",
    "    x=\"year\",\n",
    "    y=\"passengers\",\n",
    "    data=flights,\n",
    "    estimator=np.sum,\n",
    "    hue=\"season\",\n",
    "    ci=None,\n",
    "    ax=ax,\n",
    ")\n",
    "\n",
    "ax.legend()\n",
    "ax.set_title(\"Pasajeros por temporada\")\n",
    "ax.set_xlabel(\"Año\")\n",
    "ax.set_ylabel(\"Pasajeros\")"
   ]
  },
  {
   "cell_type": "markdown",
   "id": "04-visualizacion-de-datos-66",
   "metadata": {},
   "source": [
    "## Coords"
   ]
  },
  {
   "cell_type": "markdown",
   "id": "04-visualizacion-de-datos-67",
   "metadata": {},
   "source": [
    "La forma de visualizar las **coords** en una gráfica hecha con matplotlib o alguna de sus derivadas, es a través de los ejes o `axes`. \n",
    "\n",
    "Estos ejes especifican un rango en unidades usadas para medir nuestras variables dentro del dataset (número de pasajeros) y lo presentan en un rango determinado en unidades visuales (pulgadas). \n",
    "\n",
    "Ya hemos visto cómo es que podemos configurar el tamaño de nuestras gráficas, e indirectamente, los valores de conversión de nuestros ejes"
   ]
  },
  {
   "cell_type": "markdown",
   "id": "04-visualizacion-de-datos-68",
   "metadata": {},
   "source": [
    "### Cambio de tamaño"
   ]
  },
  {
   "cell_type": "markdown",
   "id": "04-visualizacion-de-datos-69",
   "metadata": {},
   "source": [
    "#### Gráfica 🚼"
   ]
  },
  {
   "cell_type": "code",
   "execution_count": null,
   "id": "04-visualizacion-de-datos-70",
   "metadata": {},
   "outputs": [],
   "source": [
    "fig = plt.figure(figsize=(4, 2), dpi=100)\n",
    "ax = fig.gca()\n",
    "\n",
    "sns.lineplot(\n",
    "    x=\"year\",\n",
    "    y=\"passengers\",\n",
    "    data=flights,\n",
    "    estimator=np.sum,\n",
    "    ci=None,\n",
    "    hue=\"season\",\n",
    "    ax=ax,\n",
    ")\n",
    "\n",
    "ax.legend()\n",
    "ax.set_title(\"Pasajeros por temporada\")\n",
    "ax.set_xlabel(\"Año\")\n",
    "ax.set_ylabel(\"Pasajeros\")"
   ]
  },
  {
   "cell_type": "markdown",
   "id": "04-visualizacion-de-datos-71",
   "metadata": {},
   "source": [
    "#### Gráfica grande"
   ]
  },
  {
   "cell_type": "code",
   "execution_count": null,
   "id": "04-visualizacion-de-datos-72",
   "metadata": {},
   "outputs": [],
   "source": [
    "fig = plt.figure(figsize=(10, 7), dpi=300)\n",
    "ax = fig.gca()\n",
    "\n",
    "sns.lineplot(\n",
    "    x=\"year\",\n",
    "    y=\"passengers\",\n",
    "    data=flights,\n",
    "    estimator=np.sum,\n",
    "    ci=None,\n",
    "    hue=\"season\",\n",
    "    ax=ax,\n",
    ")\n",
    "\n",
    "ax.legend()\n",
    "ax.set_title(\"Pasajeros por temporada\")\n",
    "ax.set_xlabel(\"Año\")\n",
    "ax.set_ylabel(\"Pasajeros\")"
   ]
  },
  {
   "cell_type": "markdown",
   "id": "04-visualizacion-de-datos-73",
   "metadata": {},
   "source": [
    "### Cambio de rangos  \n",
    "\n",
    "Podemos elegir el rango de datos que se muestra en nuestra gráfica, podemos usar `set_ylims` y `set_xlim` (recuerda que debes utilizar los valores correspondientes al rango en tu dataset):"
   ]
  },
  {
   "cell_type": "code",
   "execution_count": null,
   "id": "04-visualizacion-de-datos-74",
   "metadata": {},
   "outputs": [],
   "source": [
    "fig = plt.figure(figsize=(10, 7), dpi=100)\n",
    "ax = fig.gca()\n",
    "sns.lineplot(\n",
    "    x=\"year\",\n",
    "    y=\"passengers\",\n",
    "    data=flights,\n",
    "    estimator=np.sum,\n",
    "    ci=None,\n",
    "    hue=\"season\",\n",
    "    ax=ax,\n",
    ")\n",
    "\n",
    "ax.set_xlim((1950, 1952))  # de 1950 a 1952\n",
    "ax.set_ylim((300, 800))  # de 300 a 800 pasajeros\n",
    "\n",
    "ax.legend()\n",
    "ax.set_title(\"Pasajeros por temporada\")\n",
    "ax.set_xlabel(\"Año\")\n",
    "ax.set_ylabel(\"Pasajeros\")"
   ]
  },
  {
   "cell_type": "markdown",
   "id": "04-visualizacion-de-datos-75",
   "metadata": {},
   "source": [
    "### Relación de aspecto  \n",
    "\n",
    "Podemos usar `set_aspect` para especificar un número llamado `ratio` el cual determinará la siguiente operación  $altura = ratio \\times anchura$."
   ]
  },
  {
   "cell_type": "code",
   "execution_count": null,
   "id": "04-visualizacion-de-datos-76",
   "metadata": {},
   "outputs": [],
   "source": [
    "# Un círculo\n",
    "angle = np.linspace(-np.pi, np.pi, 100)\n",
    "x, y = np.cos(angle), -np.sin(angle)\n",
    "\n",
    "fig, axs = plt.subplots(1, 3, figsize=(12, 3))\n",
    "\n",
    "fig = plt.figure(figsize=(12, 3))\n",
    "axs[0].plot(x, y)\n",
    "axs[0].set_title(\"Relación de aspecto por default\")\n",
    "\n",
    "axs[1].plot(x, y)\n",
    "axs[1].set_aspect(0.5)\n",
    "axs[1].set_title(\"Relación incorrecta\")\n",
    "\n",
    "\n",
    "axs[2].plot(x, y)\n",
    "axs[2].set_aspect(1.0)\n",
    "axs[2].set_title(\"¡Correcta!\")"
   ]
  },
  {
   "cell_type": "markdown",
   "id": "04-visualizacion-de-datos-77",
   "metadata": {},
   "source": [
    "## Layers  \n",
    "\n",
    "Ya hemos estado haciendo uso de **layers** a lo largo de este notebook. Cada vez que agregamos una nueva colección de **geoms** a un *axes*, estamos agregando una nueva capa:"
   ]
  },
  {
   "cell_type": "code",
   "execution_count": null,
   "id": "04-visualizacion-de-datos-78",
   "metadata": {},
   "outputs": [],
   "source": [
    "fig = plt.figure(figsize=(10, 5), dpi=150)\n",
    "ax = fig.gca()\n",
    "ax.plot(\n",
    "    vuelos[\"Invierno\"][\"year\"],\n",
    "    vuelos[\"Invierno\"][\"passengers\"],\n",
    "    label=\"Invierno\",\n",
    "    marker=\"+\",\n",
    "    color=\"blue\",\n",
    "    linewidth=0.5,\n",
    ")\n",
    "ax.plot(\n",
    "    vuelos[\"Primavera\"][\"year\"],\n",
    "    vuelos[\"Primavera\"][\"passengers\"],\n",
    "    label=\"Primavera\",\n",
    "    marker=\"X\",\n",
    "    color=\"green\",\n",
    "    linewidth=1,\n",
    ")\n",
    "ax.plot(\n",
    "    vuelos[\"Verano\"][\"year\"],\n",
    "    vuelos[\"Verano\"][\"passengers\"],\n",
    "    label=\"Verano\",\n",
    "    marker=\"*\",\n",
    "    color=\"orange\",\n",
    "    linewidth=2,\n",
    ")\n",
    "ax.plot(\n",
    "    vuelos[\"Otoño\"][\"year\"],\n",
    "    vuelos[\"Otoño\"][\"passengers\"],\n",
    "    label=\"Otoño\",\n",
    "    marker=\"$❄$\",\n",
    "    color=\"brown\",\n",
    "    linewidth=4,\n",
    ")\n",
    "ax.legend()\n",
    "ax.set_title(\"Pasajeros por temporada\")\n",
    "ax.set_xlabel(\"Año\")\n",
    "ax.set_ylabel(\"Pasajeros\")"
   ]
  },
  {
   "cell_type": "markdown",
   "id": "04-visualizacion-de-datos-79",
   "metadata": {},
   "source": [
    "## Facets\n",
    "\n",
    "Podemos además usar **facets** para mostrar difetentes layers dentro de una misma figura, la siguiente es solo una forma de crear distintos facets, en *matplotlib* se les conoce como *subplots*:"
   ]
  },
  {
   "cell_type": "code",
   "execution_count": null,
   "id": "04-visualizacion-de-datos-80",
   "metadata": {},
   "outputs": [],
   "source": [
    "fig, axs = plt.subplots(1, 2, figsize=(12, 5))\n",
    "\n",
    "sns.barplot(\n",
    "    x=\"year\",\n",
    "    y=\"passengers\",\n",
    "    data=flights,\n",
    "    estimator=np.sum,\n",
    "    hue=\"season\",\n",
    "    ci=None,\n",
    "    ax=axs[0],\n",
    ")\n",
    "\n",
    "axs[0].legend()\n",
    "axs[0].set_title(\"Pasajeros por temporada\")\n",
    "axs[0].set_xlabel(\"Año\")\n",
    "axs[0].set_ylabel(\"Pasajeros\")\n",
    "\n",
    "\n",
    "sns.lineplot(\n",
    "    x=\"year\",\n",
    "    y=\"passengers\",\n",
    "    data=flights,\n",
    "    estimator=np.sum,\n",
    "    hue=\"season\",\n",
    "    ci=None,\n",
    "    ax=axs[1],\n",
    ")\n",
    "axs[1].legend()\n",
    "axs[1].set_title(\"Pasajeros por temporada\")\n",
    "axs[1].set_xlabel(\"Año\")\n",
    "axs[1].set_ylabel(\"Pasajeros\")"
   ]
  },
  {
   "cell_type": "markdown",
   "id": "04-visualizacion-de-datos-81",
   "metadata": {},
   "source": [
    "Échale un ojo a la documentación de *matplotlib* para encontrar más código e inspiración [https://matplotlib.org/stable/tutorials/intermediate/gridspec.html](https://matplotlib.org/stable/tutorials/intermediate/gridspec.html) "
   ]
  },
  {
   "cell_type": "markdown",
   "id": "04-visualizacion-de-datos-82",
   "metadata": {},
   "source": [
    "## Hacicéndo una buena gráfica  \n",
    "\n",
    "Es tu momento para brillar, encuentra un dataset (o usa alguno de los que están en este Notebook) y crea una gráfica. Mándamela por Twitter o al Discord para revisarla y compartirla 😁"
   ]
  },
  {
   "cell_type": "markdown",
   "id": "04-visualizacion-de-datos-83",
   "metadata": {},
   "source": [
    "## Referencias  \n",
    "\n",
    "<table style=\"margin:0; max-width: 1000px;\">\n",
    "    <tbody>\n",
    "        <tr>\n",
    "            <td>\n",
    "                <a href=\"https://thatcsharpguy.com\">\n",
    "                    <img src=\"assets/general/Sharp@1x.png\" />\n",
    "                </a>\n",
    "            </td>\n",
    "            <td>\n",
    "                <a href=\"https://twitter.com/io_exception\">\n",
    "                    <img src=\"assets/general/Twitter@1x.png\" />\n",
    "                </a>\n",
    "            </td>\n",
    "            <td>\n",
    "                <a href=\"https://tcsg.dev/discord\">\n",
    "                    <img src=\"assets/general/Discord@1x.png\" />\n",
    "                </a>\n",
    "            </td>\n",
    "            <td>\n",
    "                <a href=\"https://github.com/thatcsharpguy/df\">\n",
    "                    <img src=\"assets/general/GitHub@1x.png\" />\n",
    "                </a>\n",
    "            </td>\n",
    "            <td>\n",
    "                <a href=\"https://youtube.com/thatcsharpguy\">\n",
    "                    <img src=\"assets/general/YouTube@1x.png\" />\n",
    "                </a>\n",
    "            </td>\n",
    "            <td>\n",
    "                <a href=\"https://youtu.be/7vZY6JdswKs\">\n",
    "                    <img src=\"assets/general/EnVivo@1x.png\" />\n",
    "                </a>\n",
    "            </td>\n",
    "            <td>\n",
    "                <a href=\"https://twitch.tv/thatcsharpguy\">\n",
    "                    <img src=\"assets/general/Twitch@1x.png\" />\n",
    "                </a>\n",
    "            </td>\n",
    "        </tr>\n",
    "    </tbody>\n",
    "</table>\n",
    "\n",
    "### Libros\n",
    " \n",
    " - **How to lie with statistics** de Darrell Huff: [México](https://amzn.to/3duQLnf) &middot; [España](https://amzn.to/3rIwcst) · [US](https://amzn.to/3rMFALK)     \n",
    " - **How charts lie** de Alberto Cairo: [México](https://amzn.to/3cNG14s) &middot; [España](https://amzn.to/3ukvrb2) · [US](https://amzn.to/3rMGp7i)      \n",
    " - **The grammar of graphics** - [https://byrneslab.net/classes/biol607/readings/wickham_layered-grammar.pdf](https://byrneslab.net/classes/biol607/readings/wickham_layered-grammar.pdf)\n",
    " - **Los libros de Edward Tufte** - https://www.edwardtufte.com/tufte/books_vdqi\n",
    " \n",
    "### Videos  \n",
    "\n",
    " - **matplotlib (Python Plotting Library) Beginner | SciPy 2016 Tutorial | Nicolas Rougier** - [https://www.youtube.com/watch?v=p7Mj-4kASmI](https://www.youtube.com/watch?v=p7Mj-4kASmI)\n",
    " \n",
    "### Sitios web\n",
    "\n",
    " - **PyViz Overviews** - [https://pyviz.org/overviews/index.html](https://pyviz.org/overviews/index.html)  \n",
    " - **Dr. Randal S. Olson's data visualizations** - [http://www.randalolson.com/category/data-visualization/](http://www.randalolson.com/category/data-visualization/)\n",
    " - **Python Graph Gallery** - [https://www.python-graph-gallery.com/](https://www.python-graph-gallery.com/)\n",
    " - **Choosing a good chart** - [https://extremepresentation.typepad.com/blog/2006/09/choosing_a_good.html](https://extremepresentation.typepad.com/blog/2006/09/choosing_a_good.html)\n",
    " - **A legendar** - [https://towardsdatascience.com/murdering-a-legendary-data-story-what-can-we-learn-from-a-grammar-of-graphics-ad6ca42f5e30](https://towardsdatascience.com/murdering-a-legendary-data-story-what-can-we-learn-from-a-grammar-of-graphics-ad6ca42f5e30)\n",
    " - **Ten Simple Rules for Better Figures** - [https://hal.inria.fr/hal-01063732/document](https://hal.inria.fr/hal-01063732/document)\n",
    " - **A Tour Through the Visualization Zoo** - [https://homes.cs.washington.edu/~jheer//files/zoo/](https://homes.cs.washington.edu/~jheer//files/zoo/)\n",
    " - **Effectively Using Matplotlib** - [https://pbpython.com/effective-matplotlib.html](https://pbpython.com/effective-matplotlib.html)\n",
    " - **Matplotblog** - [https://matplotlib.org/matplotblog/](https://matplotlib.org/matplotblog/)  \n",
    " - **Matplotlib - Gallery** - [https://matplotlib.org/stable/gallery/index.html](https://matplotlib.org/stable/gallery/index.html)"
   ]
  }
 ],
 "metadata": {
  "kernelspec": {
   "display_name": "Python 3",
   "language": "python",
   "name": "python3"
  },
  "language_info": {
   "codemirror_mode": {
    "name": "ipython",
    "version": 3
   },
   "file_extension": ".py",
   "mimetype": "text/x-python",
   "name": "python",
   "nbconvert_exporter": "python",
   "pygments_lexer": "ipython3",
   "version": "3.8.2"
  }
 },
 "nbformat": 4,
 "nbformat_minor": 5
}
