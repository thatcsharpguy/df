{
 "cells": [
  {
   "cell_type": "markdown",
   "id": "ce735c4d",
   "metadata": {},
   "source": [
    "# 07: Optimización - Parte 1\n",
    "\n",
    "<table style=\"margin:0; max-width: 1000px;\">\n",
    "    <tbody>\n",
    "        <tr>\n",
    "            <td>\n",
    "                <a href=\"https://thatcsharpguy.com\">\n",
    "                    <img src=\"assets/general/Sharp@1x.png\" />\n",
    "                </a>\n",
    "            </td>\n",
    "            <td>\n",
    "                <a href=\"https://twitter.com/io_exception\">\n",
    "                    <img src=\"assets/general/Twitter@1x.png\" />\n",
    "                </a>\n",
    "            </td>\n",
    "            <td>\n",
    "                <a href=\"https://tcsg.dev/discord\">\n",
    "                    <img src=\"assets/general/Discord@1x.png\" />\n",
    "                </a>\n",
    "            </td>\n",
    "            <td>\n",
    "                <a href=\"https://github.com/thatcsharpguy/df\">\n",
    "                    <img src=\"assets/general/GitHub@1x.png\" />\n",
    "                </a>\n",
    "            </td>\n",
    "            <td>\n",
    "                <a href=\"https://youtube.com/thatcsharpguy\">\n",
    "                    <img src=\"assets/general/YouTube@1x.png\" />\n",
    "                </a>\n",
    "            </td>\n",
    "            <td>\n",
    "                <a href=\"https://youtu.be/tzKtffhJ31Y\">\n",
    "                    <img src=\"assets/general/EnVivo@1x.png\" />\n",
    "                </a>\n",
    "            </td>\n",
    "            <td>\n",
    "                <a href=\"https://twitch.tv/thatcsharpguy\">\n",
    "                    <img src=\"assets/general/Twitch@1x.png\" />\n",
    "                </a>\n",
    "            </td>\n",
    "        </tr>\n",
    "    </tbody>\n",
    "</table>"
   ]
  },
  {
   "cell_type": "markdown",
   "id": "0a5fa56e-6bb9-43f8-9c10-6093f5e607a2",
   "metadata": {},
   "source": [
    "## Paquetes  \n",
    "\n",
    " - `numpy`  \n",
    " - `matplotlib`  "
   ]
  },
  {
   "cell_type": "code",
   "execution_count": 1,
   "id": "d0c1b0ac",
   "metadata": {},
   "outputs": [],
   "source": [
    "import numpy as np\n",
    "import matplotlib.pyplot as plt"
   ]
  },
  {
   "cell_type": "markdown",
   "id": "4494b17b",
   "metadata": {},
   "source": [
    "## ¿Qué es?  \n",
    "\n",
    "La optimización es el proceso de realizar ajustes a un determinado proceso con el propósito de hacerlo mejor: más eficiente, menos contaminante, más rápido...  \n",
    "\n",
    "Por ejemplo, piensa en un sintetizador:\n",
    "\n",
    "<img src=\"assets/07/modulair.jpg\" />\n",
    "<small><a href=\"https://www.fullbucket.de/music/modulair.html\">ModulAir</a></small>\n",
    "\n",
    "Mientras que nosotros podríamos ajustar cada uno de estos parámetros, como buenos millenials (y en adelante) pensamos, ¿podría una computadora hacer esto automáticamente? Muchísimos de nuestros problemas pueden ser presentados como un problema de optimización y en la actualidad existen múltiples algoritmos que pueden realizar estos ajustes por nosotros.\n",
    "\n",
    "La optimización es buscar los mejores parámetros dentro del espacio de posibles soluciones.\n",
    "\n",
    "Por ejemplo la rotación ideal de todas las perillas en el sintetizador para generar el \"mejor\" sonido.  \n",
    "\n",
    "La optimización es el corazón del *machine learning*."
   ]
  },
  {
   "cell_type": "markdown",
   "id": "9e437ecc",
   "metadata": {},
   "source": [
    "## Una solución genérica  \n",
    "\n",
    "Gracias a la existencia de estos algoritmos de optimización podemos resolver un gran número de problemas sin necesidad de crear una solución específica para cada uno de ellos. Lo único que debemos hacer es formular el problema de una manera tal que nuestro algoritmo de optimización lo pueda procesar.\n",
    "\n",
    "Para poder lograr esto, debemos tener la habilidad y capacidad de representar nuestros problemas formalmente."
   ]
  },
  {
   "cell_type": "markdown",
   "id": "59bac37c",
   "metadata": {},
   "source": [
    "## Parámetros y una función objetivo  \n",
    "\n",
    "Un problema genérico de optimización tiene dos partes:  \n",
    "\n",
    "### Parámetros  \n",
    "\n",
    "Estas son las cosas que podemos modificar en nuestra búsqueda de la mejor solución; pueden ser números, valores binarios, vectores... estos parámetros existen en algo que vamos a conocer como **espacio de parámetros** $\\Theta$, este espacio está formado por todas las configuraciones posibles de nuestros parámetros. En adelante veremos estos parámetros denotados por $\\theta$.  \n",
    "\n",
    "### Función objetivo  \n",
    "\n",
    "Es una función que convierte los parámetros en un solo valor, este valor es la medida de qué tan buena es nuestra elección de parámetros; la vamos a denotar como $L(\\theta)$. Esta función puede tomar varios nombres: función de pérdida (*loss function*), función de costo (*cost function*), función de fitness (*fitness function*)...\n",
    "\n",
    "El resultado de la optimización es un conjunto de parámetros $\\theta$ que minimizan el valor de $L(\\theta)$:  \n",
    "\n",
    "$$\\begin{equation} \\theta^{*} = \\text{arg min}_{\\theta\\in \\Theta} L(\\theta) \\end{equation}$$  \n",
    "\n",
    "A nosotros nos va a resultar útil el definir $L$ como una función cuyo resultado tenga que ser minimizado; siempre podremos manipular nuestra función para pasar de un problema de maximización a uno que se trate de minimizar."
   ]
  },
  {
   "cell_type": "markdown",
   "id": "92d56f22",
   "metadata": {},
   "source": [
    "## Minimizando diferencias  \n",
    "\n",
    "Una forma de obtener una función a minimizar es el tener un punto de referencia contra el cual comparar el resultado de ejecutar el proceso que estamos tratando de optimizar:\n",
    "\n",
    "Es decir, tenemos una función $f$, que toma un conjunto entradas $\\vec{x}$ y que tiene como parámetros $\\theta$, al calcular la función vamos a obtener un resultado $y\\prime$:  \n",
    "\n",
    "$$y\\prime = f(\\vec{x};\\theta)$$\n",
    "\n",
    "Si tenemos una valor $y$ de referencia, podemos definir nuestra función objetivo como:\n",
    "\n",
    "$${\\displaystyle {\\begin{aligned}L(\\theta) &= \\|y\\prime - y\\| \\\\&=\\|f(\\vec{x};\\theta) - y\\| \\end{aligned}}}$$\n",
    "\n",
    "Acabamos de llegar al problema central que hace posible el aprendizaje automático. Esto se conoce como un **problema de aproximación**, en estos problemas lo que queremos es encontrar una función que bajo ciertas entradas y parámetros, se aproxime a un resultado esperado.  \n",
    "\n",
    "Es importante denotar que en la representación $f(\\vec{x}; \\theta)$ lo que estamos tratando de encontrar es $\\theta$ por lo que en nuestra búsqueda de la solución óptima $\\vec{x}$ permanece fijo.\n",
    "\n",
    "Supongamos que queremos hacer que nuestro sintetizador suene como un saxofon real, podríamos tratar este problema como un problema de maximizar qué tan bueno es el sonido del saxofón producido por nuestro sintentizador configurado con las perillas. Al mismo tiempo, este problema podríamos representarlo como el problema de minimizar la diferencia entre el sonido producido por nuestro sintetizador y el sonido producid por un saxofón real:\n",
    "\n",
    "$$L(🎛️) = \\|f(🎹,🎛️) - 🎷\\|$$\n",
    "\n"
   ]
  },
  {
   "cell_type": "markdown",
   "id": "5959b1b0",
   "metadata": {},
   "source": [
    "### Más sobre la función objetivo. \n",
    "\n",
    "A veces puede resultar costoso el poder calcular la función objetivo para cada conjunto nuevo de parámetros que queramos evaluar, pro ejemplo si estamos tratando de evaluar si una interfaz de usuario es más amigable al usuario (tiempo), si determinado diseño de ala de avión vuela mejor (peligroso) o si se requiere de mucho poder humano para obtener el resultado (dinero).\n",
    "\n",
    "Dado el costo que a veces puede aparecer a la hora de evaluar nuestra función, estamos interesados en algoritmos de optimización que puedan llegar a un resultado con la menor cantidad de evaluaciones posibles."
   ]
  },
  {
   "cell_type": "markdown",
   "id": "f279d634",
   "metadata": {},
   "source": [
    "## Tipos de optimización  \n",
    "\n",
    "Dentro de la optimización tenemos diversos grupos que dependen de la forma que tomen los parámetros $\\theta$; por ejemplo\n",
    "\n",
    "### Discreta  \n",
    "\n",
    "<img src=\"assets/07/Knapsack.svg\" />  \n",
    "\n",
    "### Continua \n",
    "\n",
    "Un problema se considera como de optimización continua si los parámetros existen en $\\mathbb{R^n}$:  \n",
    "\n",
    "<img src=\"assets/07/Wing_profile_nomenclature (es).svg\" />  \n",
    "\n",
    "[Olivier Cleyne](https://commons.wikimedia.org/wiki/File:Wing_profile_nomenclature_(es).svg) - CC0\n",
    "\n",
    "\n",
    "Parámetros de entrada:  \n",
    "\n",
    " - Ángulo de ataque,\n",
    " - Borde de ataque,\n",
    " - Revestimiento superior...\n",
    " \n",
    "Objetivo a maximizar: **Elevación**.  \n",
    "\n",
    "#### Vector parámetro  \n",
    "\n",
    "En el caso del ala de avión tenemos un conjunto de parámetros $\\theta$:  \n",
    "\n",
    "$${\\displaystyle {\\begin{aligned}\\theta &= (\\theta_0, \\theta_1, \\theta_2, \\dots, \\theta_n)\\\\&= (\\text{ángulo}, \\text{borde}, \\dots, \\text{rev. superior}) \\end{aligned}}}$$"
   ]
  },
  {
   "cell_type": "markdown",
   "id": "3580fda5",
   "metadata": {},
   "source": [
    "## Optimización restringida  \n",
    "\n",
    "Si un problema tiene límites en los valores que pueden tomar los parámetros, entonces estamos hablando de **optimización restringida**, por ejemplo ... esto hace que el **conjunto factible** esté limitado.  \n",
    "\n",
    "### Restricciones y penalizaciones  \n",
    "\n",
    "Piensa en el ejemplo del ala de avión más arriba: podríamos, por ejemplo incrementar algo como la longitud del ala para maximizar la elevación, sin embargo entre más larga hagamos el ala, más difícil será de construir; existe un límite.   \n",
    "\n",
    "Podemos entonces usar dos técnicas:  \n",
    "\n",
    "#### Optimización restrictiva  \n",
    "\n",
    "Poner límites fijos indicando qué valores nuestros parámetros no pueden tomar, usar un algoritmo que ofrezca esta posibilidad nos ofrece:  \n",
    "\n",
    " - Ventajas:  \n",
    "   - La solución entra dentro de las restricciones\n",
    "   - Puede aprovechar las restricciones para la búsqueda de soluciones  \n",
    " - Desventajas:  \n",
    "   - No hay gran variedad de algoritmos\n",
    "   - Toma más tiempo definir los límites del problema\n",
    "   \n",
    "#### Optimización penalizada. \n",
    "\n",
    "Otra forma de poner límites, sin necesidad de prohibir valores directamente, es la de aplicar ciertas penalizaciones cuando nuestros parámetros toman valores que nosotros consideramos *\"indeseables\"*. Estas penalizaciones se le agregan a la función objetivo; no hay necesidad de encontrar un algoritmo específico.\n",
    "\n",
    " - Ventajas:  \n",
    "   - Podemos usar cualquier algoritmo de optimización\n",
    "   - Toma las restricciones como cualquier otro término en la función objetivo\n",
    " - Desventajas:  \n",
    "   - Es posible que las restricciones sean ignoradas por la optimización\n",
    "   - Es difícil formular las restricciones como penalizaciones\n",
    "   \n",
    "<img src=\"assets/07/hard_and_soft.png\" />  "
   ]
  },
  {
   "cell_type": "markdown",
   "id": "ae369d67",
   "metadata": {},
   "source": [
    "## Propiedades de la función objetivo. \n",
    "\n",
    "### Mínimos globales y locales  \n",
    "\n",
    "Una función objetivo puede tener mínimos locales; se conoce como mínimo local a cualquier punto en el que la función incrementa en cualquier dirección al rededor del punto mínimo.\n",
    "\n",
    "Una función que tiene solamente mínimo local es conocida como **convexa**, y este mínimo local se conoce entonces como **mínimo global**. \n",
    "\n",
    "\n",
    "<img src=\"assets/07/convexas.png\" />  \n",
    "\n",
    "<img src=\"assets/07/non_convex.png\" />  \n",
    "\n",
    "Si podemos garantizar que la función que estamos optimizando es convexa todo se vuelve más sencillo: en cuanto lleguemos a un mínimo, podemos dejar de buscar. Por otro lado, si podemos demostrar que nuestra función no tiene mínimos, no tiene sentido buscar del todo."
   ]
  },
  {
   "cell_type": "markdown",
   "id": "31aaa003",
   "metadata": {},
   "source": [
    "#### Optimización convexa. \n",
    "Si la función que estamos buscando optimizar es convexa, existen algoritmos muy eficientes, casi sin importar el número de variables con el que contemos.  \n",
    "\n",
    "### Continuidad\n",
    "\n",
    "Una función es continua si para un cambio pequeño en sus parámetros $\\theta$, existe un cambio pequeño en $L(\\theta)$. Puedes imaginarte como que la gráfica de la función es \"suave\", no hay cambios bruscos:\n",
    "\n",
    "Si, por otro lado la función es discontinua te encontrarás que existen variaciones \"bruscas\" en la función.\n",
    "\n",
    "Es más fácil optimizar una función continua que una no continua.\n",
    "\n",
    "\n",
    "<img src=\"assets/07/continuidad.png\" />  "
   ]
  },
  {
   "cell_type": "markdown",
   "id": "2dc87beb",
   "metadata": {},
   "source": [
    "### Algunos ejemplos de optimización\n",
    "\n",
    "#### Resolución de sistemas lineales  \n",
    "\n",
    " - **Problema** Los sistemas lineales $A\\vec{x}+\\vec{b}=0$ pueden ser resueltos teoricamente usando inversión de matrices. Pero esto no es factible en la práctica para problemas reales; es más factible resolver este problema a través de optimización.\n",
    " - **Parámetros**  El vector $\\vec{x}$.\n",
    " - **Función objetivo** $\\|A\\vec{x}+\\vec{b}\\|$\n",
    "\n",
    "Podemos encontrar soluciones aproximadas, inclusive si no existe una solución definitiva al problema.\n",
    "\n",
    "#### Machine learning: estilos  \n",
    "\n",
    "#### Machine learning: encontrando fronteras"
   ]
  },
  {
   "cell_type": "markdown",
   "id": "e178dec1",
   "metadata": {},
   "source": [
    "## Algoritmos  \n",
    "\n",
    "### Optimización convexa: mínimos cuadrados  \n",
    "\n",
    "Ya hablamos sobre problemas de optimización en los que podemos calcular la solución en un solo paso, por ejemplo el método de los mínimos cuadrados. En donde la función objetivo toma la forma:  \n",
    "\n",
    "$$L(\\vec{x}) = \\|A\\vec{x}-\\vec{y}\\|_{2}^{2}$$  \n",
    "\n",
    "En este caso hay que encontrar:  \n",
    "\n",
    "$$\\text{arg min}_{x} L(\\vec{x}) = \\|A\\vec{x}-\\vec{y}\\|_{2}^{2}$$\n",
    "\n",
    "Se trata de encontrar un $\\vec{x}$ que se acerque a la solución del sistema $\\|A\\vec{x}-\\vec{y}\\|_{2}^{2}$. Esta ecuación es convexa (tiene un mínimo global, te puedes dar cuenta por que tenemos un solo término elevado al cuadrado). \n",
    "\n",
    "Si recuerdas, podemos encontrar la solución usando la descomposición en valores singulares (y obteniendo la pseudo-inversa):  \n",
    "\n",
    "$${\\displaystyle {\\begin{aligned}A\\vec{x} &= \\vec{y}\\\\ \n",
    "A^{†}A\\vec{x} &= A^{†}\\vec{y}\\\\ \n",
    "\\vec{x} &= A^{†}\\vec{y} \\end{aligned}}}$$"
   ]
  },
  {
   "cell_type": "markdown",
   "id": "099f38ba",
   "metadata": {},
   "source": [
    "### Optimización iterativa  \n",
    "\n",
    "Contrario a la optimización directa tenemos la optimización iterativa, que implica  dar pasos en el espacio de posibles soluciones, siempre en búsqueda de a cada paso minimizar la función objetivo hasta llegar a un punto en el cual estemos satisfechos con el valor de este mínimo; es decir, hasta cumplir un **criterio de finalización**.  \n",
    "\n",
    "\n",
    "#### Ejemplo trivial: 1 dimensión  \n",
    "\n",
    "En el raro caso que tengamos una función objetivo en donde solo tengamos un parámetro, podemos usar métodos sencillos y bastante conocidos para tratar de optimizarla. La búsqueda binaria es una buena forma de optimización:"
   ]
  },
  {
   "cell_type": "code",
   "execution_count": 2,
   "id": "25779a9c",
   "metadata": {},
   "outputs": [],
   "source": [
    "def binaria(function, a, b, history):\n",
    "    f_a = function(a)\n",
    "    f_b = function(b)\n",
    "    history.append((a, b, f_a, f_b))\n",
    "    \n",
    "    c = a+b/2\n",
    "    if np.allclose(f_a, f_b):\n",
    "        return f_a\n",
    "    if f_a > f_b:\n",
    "        return binaria(function, c, b, history)\n",
    "    else:\n",
    "        return binaria(function, a, c, history)\n"
   ]
  },
  {
   "cell_type": "code",
   "execution_count": 3,
   "id": "9c85b9a0",
   "metadata": {},
   "outputs": [
    {
     "data": {
      "text/plain": [
       "Text(0.5, 1.0, 'Búsqueda binaria')"
      ]
     },
     "execution_count": 3,
     "metadata": {},
     "output_type": "execute_result"
    },
    {
     "data": {
      "image/png": "[encoded data removed]",
      "text/plain": [
       "<Figure size 432x288 with 1 Axes>"
      ]
     },
     "metadata": {
      "needs_background": "light"
     },
     "output_type": "display_data"
    }
   ],
   "source": [
    "def f(x):\n",
    "    return (x-2)**2/3 + 0.3*x\n",
    "\n",
    "hh = []\n",
    "\n",
    "x = np.linspace(-5,5,100)\n",
    "fig = plt.figure()\n",
    "ax = fig.add_subplot(1,1,1)\n",
    "ax.fill_between(x,f(x))\n",
    "result = binaria(f, -4, 4, hh)\n",
    "\n",
    "for t, (a, b, fa, fb) in enumerate(hh):\n",
    "    ax.axvline(a, color='g', alpha=0.3)\n",
    "    ax.axvline(b, color='r', alpha=0.3)\n",
    "    ax.plot([a-0.1], [fa], marker='<', ls='', c='g', lw=0.5)\n",
    "    ax.plot([b+0.1], [fb], marker='>', ls='', c='r', lw=0.5)\n",
    "\n",
    "ax.set_xlabel(\"$\\\\theta$\")\n",
    "ax.set_ylabel(\"L($\\\\theta$)\")\n",
    "ax.set_title(\"Búsqueda binaria\")"
   ]
  },
  {
   "cell_type": "markdown",
   "id": "8464c3c1",
   "metadata": {},
   "source": [
    "## Búsqueda en malla (*grid search*)\n",
    "\n",
    "La búsqueda en malla es una forma \"ingenua\", sencilla pero ineficiente de buscar los mejores parámetros cuando estos existen en un espacio multidimensional. Este espacio de parámetros es sampleado para obtener algunas combinaciones de parámetros, este sampleo se realiza a intervalos en cada dimensión.\n",
    "\n",
    "Cada una de estas combinaciones generará un vector de parámetros $\\theta$, para cada uno de estos vectores tenemos que evaluar nuestra función de pérdida $L(\\theta)$ al final de la evaluación nos quedaremos con el $\\theta$ que nos dio el valor mínimo de pérdida."
   ]
  },
  {
   "cell_type": "markdown",
   "id": "c7ca4f94",
   "metadata": {},
   "source": [
    "### ¿Por qué digo que es ineficiente?  \n",
    "\n",
    "Imagina tener un espacio de parámetros que consta de tres dimensiones, si dividimos este espacio de tres dimensiones en 10 secciones cada dimensión, necesitaríamos evaluar..."
   ]
  },
  {
   "cell_type": "code",
   "execution_count": 4,
   "id": "e3e6514f",
   "metadata": {},
   "outputs": [
    {
     "data": {
      "text/plain": [
       "1000"
      ]
     },
     "execution_count": 4,
     "metadata": {},
     "output_type": "execute_result"
    }
   ],
   "source": [
    "10**3"
   ]
  },
  {
   "cell_type": "markdown",
   "id": "ae6eb30a",
   "metadata": {},
   "source": [
    "Pareciera no ser un problema, pero conforme aumentamos el número de divisiones, o el número de parámetros evaluar la función de perdida se vuelve extremadamente costoso:"
   ]
  },
  {
   "cell_type": "code",
   "execution_count": 5,
   "id": "9efb6d2e",
   "metadata": {},
   "outputs": [
    {
     "data": {
      "text/plain": [
       "10000000000000000000000000000000000000000000000000000000000000000000000000000000000000000000000000000"
      ]
     },
     "execution_count": 5,
     "metadata": {},
     "output_type": "execute_result"
    }
   ],
   "source": [
    "10**100"
   ]
  },
  {
   "cell_type": "markdown",
   "id": "5e7fb7ce",
   "metadata": {},
   "source": [
    "En la actualidad es común que algunos modelos de machine leaning tengan cientos, miles y, en algunos casos, millones de parámetros. Imagínate la cantidad de evaluaciones que se tendrían que hacer usando la búsqueda en malla."
   ]
  },
  {
   "cell_type": "markdown",
   "id": "7a21475e",
   "metadata": {},
   "source": [
    "### ¿Por qué no es tan buena idea de todos modos?  \n",
    "\n",
    "Aún si son pocos parámetros; podríamos experimentar algo como lo siguiente, en donde gracias a nuestras divisiones, nuestra búsqueda nos puede dar como resultado un conjunto de parámetros en donde el resultado no es el óptimo:  \n",
    "\n",
    "\n",
    "<img src=\"assets/07/missing_grid.png\" />"
   ]
  },
  {
   "cell_type": "markdown",
   "id": "8ee75ee0",
   "metadata": {},
   "source": [
    "### Búsqueda en malla adaptativa   \n",
    "\n",
    "Una alternativa de la búsqueda en malla es algo conocido como la búsqueda en malla adaptiva; la cual consiste en ir incrementadno la densidad del área de búsqueda en donde se sospecha que existe un mínimo; lo malo: se puede atorar en un mínimo local.\n",
    "\n",
    "<img src=\"assets/07/adaptative.png\" />"
   ]
  },
  {
   "cell_type": "markdown",
   "id": "f4a7bfeb",
   "metadata": {},
   "source": [
    "### Ventajas  \n",
    "\n",
    " - Útil para cualquier espacio de parámetros continuo\n",
    " - No se requiere información sobre la función objetivo\n",
    " - Sencilla de implementar\n",
    " \n",
    "### Desventajas  \n",
    "\n",
    " - Ineficiente\n",
    " - Debemos limitar el espacio de búsqueda\n",
    " - Depende de las divisiones elegidas para buscar\n",
    " - Susceptible a estancarse en mínimos locales"
   ]
  },
  {
   "cell_type": "markdown",
   "id": "b0d327e6",
   "metadata": {},
   "source": [
    "## Híperparámetros   \n",
    "\n",
    "La búsqueda que vimos anteriormente depende de dos cosas: **el rango** de los parámetros y **el número de divisiones**; estas dos cosas son elegidas a veces arbitrariamente y a veces un poco informádamente por quien escribe el código.\n",
    "\n",
    "Estas dos decisiones afectan la forma en la que el algoritmo optimizador encuentra una solución. Estos dos valores son conocidos como **híperparámetros**, son parámetros del algoritmo que nos ayudan a encontrar los parámetros de nuestra función objetivo.   \n",
    "\n",
    "En un mundo ideal tendríamos un algoritmo que no requiera de estos híperparámetros, un algoritmo que no necesite influencia externa para llegar a una solución. Sin embargo, por el momento toca conformarse con lo que tenemos: en general, entre menos parámetros es mejor."
   ]
  },
  {
   "cell_type": "markdown",
   "id": "4124a99d",
   "metadata": {},
   "source": [
    "## Búsqueda aleatoria  \n",
    "\n",
    "Otro algoritmo bastante simple es uno conocido como búsqueda aleatoria, lo único que debemos hacer es limitar el espacio del cual podemos samplear valores para los parámetros. El algoritmo es simple:  \n",
    "\n",
    " - Toma un conjunto de parámetros $\\theta$\n",
    " - Evalúa la función $L(\\theta)$\n",
    " - Si $L(\\theta) < L(\\theta\\prime)$ (en donde $\\theta\\prime$ es el mejor vector previamente obtenido), $\\theta\\prime = \\theta$ \n",
    " \n",
    "Podrás pensar que este es uno de esos algoritmos sin parámetros, pero aún así tenemos que definir los límites entre los cuales podemos tomar valores aleatorios, además también tenemos que definir en qué momento debemos dejar de buscar y conformarnos con el $\\theta\\prime$.\n",
    "\n",
    "### Ventajas  \n",
    "\n",
    " - No se puede estancar en un mínimo local\n",
    " - No nos interesa la estructura de la función objetivo\n",
    " - Simple de implementar\n",
    " - Mejor* que búsqueda en malla\n",
    " \n",
    "### Desventajas  \n",
    "\n",
    " - Ineficiente\n",
    " - No es posible identificar una tendencia de mejora; no hay forma de diagnosticar la optimización"
   ]
  },
  {
   "cell_type": "markdown",
   "id": "d9a4283d",
   "metadata": {},
   "source": [
    "## Metaheurísticas  \n",
    "\n",
    "No todo está perdido con la búsqueda aleatoria, podemos pensar en implementar algunas metaheurísticas para mejorarla:  \n",
    "\n",
    "### Localidad  \n",
    "\n",
    "La búsqueda local se refiere a la clase de algoritmos que se acercan incrementalmente a una solución; estos algoritmos son propensos a estancarse en un mínimo local e ignorar completamente el mínimo global\n",
    "\n",
    "<img src=\"assets/07/locality.png\" />"
   ]
  },
  {
   "cell_type": "markdown",
   "id": "024393b5",
   "metadata": {},
   "source": [
    "#### *Hill climbing*  \n",
    "\n",
    "Este algoritmo es una especie combinación de la búsqueda aleatoria y la búsqueda local; en este algoritmo introducimos el concepto de \"vecindad\". En lugar de seleccionar un vector de parámetros aleatorio de todo el rango posible, seleccionamos un vector aleatorio que esté cercano al último vector que nos dio la mejor solución. Bajo la suposición de que puntos cercanos a la mejor solución al momento, tienen la posibilidad de ser aún mejores.\n",
    "\n",
    "#### Ventajas \n",
    "\n",
    " - No más complejo que una búsqueda aleatoria\n",
    " - Más rápido* que la búsqueda aleatoria\n",
    " \n",
    "#### Desventajas  \n",
    "\n",
    " - Más hiperparámetros (punto de inicio, qué tan grande es el incremento)   \n",
    " - Se puede atorar en mínimos locales  \n",
    " - Se confunde en superficies \"planas\"  "
   ]
  },
  {
   "cell_type": "markdown",
   "id": "c3d2528b",
   "metadata": {},
   "source": [
    "### Temperatura  \n",
    "\n",
    "#### Enfriamiento simulado: cómo escapar mínimos locales. \n",
    "\n",
    "El introducir un concepto conocido como **enfriamiento simulado** que es una extensión del *hill climbing* en el cual a veces se permite que el algoritmo no solamente de pasos hacia el un mínimo, sino a que a veces se le permite dar pasos que lo alejan de la mejor solución.   \n",
    "\n",
    "La idea es permitir variaciones más grandes al inicio de la optimización, incluyendo estos pasos \"hacia arriba\". Esto nos permite escapar de los mínimos locales.\n",
    "\n",
    "(La idea viene del recocido de metales, los metales al rojo vivo tienen moléculas moviéndose para todos lados, este comportamiento cambia conforme el metal se va enfriando y las moléculas reducen su movimiento)\n",
    "\n",
    "Dada una función de pérdida $s = L(\\theta)$ y una nueva propuesta para la péridad $s_{\\text{nueva}} = L(\\theta + \\epsilon)$. $\\epsilon$ es un cambio aleatorio para el vector $\\theta$, nosotros podemos definir una probabilidad $P(s, s_{\\text{nueva}}, T_i)$. Esta es la probabilidad de pasar de $\\theta$ a $\\theta + \\epsilon$ en la iteración $i$.\n",
    "\n",
    "Una forma común de definir $P$ es la siguiente:\n",
    "\n",
    "$$P(s, s_{\\text{nueva}}, T_i) =\n",
    "\\left\\{\n",
    "\t\\begin{array}{ll}\n",
    "\t\t1  & \\mbox{if } s_{\\text{nueva}} < s \\\\\n",
    "\t\te^{-(l-l^\\prime)}T(i) & \\mbox{if } s_{\\text{nueva}} >= s\n",
    "\t\\end{array}\n",
    "\\right.$$\n",
    "\n",
    "$T_i$ es usualmente un valor que decae exponencialmente en función del número de iteración $i$; de tal modo que al inicio se aceptan cambios más drásticos.  \n",
    "\n",
    "Una de las formas para definir $T_i$ puede ser: \n",
    "\n",
    "$$T_i = e^{\\frac{-i}{r}}$$ \n",
    "\n",
    " - $i$ es el número de iteración,\n",
    " - $r$ es la razón de enfriamiento,\n",
    " - $T_i$ es la temperatura en la iteración $i$\n",
    " \n",
    "<img src=\"assets/07/Hill_Climbing_with_Simulated_Annealing.gif\">\n",
    "<small>Kingpin13 - Trabajo Propio <a href=\"https://commons.wikimedia.org/wiki/File:Hill_Climbing_with_Simulated_Annealing.gif\">https://commons.wikimedia.org/wiki/File:Hill_Climbing_with_Simulated_Annealing.gif</a></small> \n",
    "\n",
    "#### Ventajas  \n",
    "\n",
    " - Menos sensible a estancarse en mínimos locales\n",
    " - Fácil* de implementar\n",
    "\n",
    "#### Desventajas \n",
    "\n",
    " - Depende de la elección de cómo calcular $T_i$ y cómo decidimos $\\epsilon$  \n"
   ]
  },
  {
   "cell_type": "markdown",
   "id": "cc416388",
   "metadata": {},
   "source": [
    "### Algoritmos genéticos  "
   ]
  },
  {
   "cell_type": "markdown",
   "id": "71989b89",
   "metadata": {},
   "source": [
    " \n",
    " - **Algoritmos genéticos** - [https://youtu.be/a2kiaRREyMw](https://youtu.be/a2kiaRREyMw)\n",
    " - **Algoritmos genéticos (en vivo)** - [https://youtu.be/0dfXTj9Cn1E](https://youtu.be/0dfXTj9Cn1E)\n",
    " "
   ]
  },
  {
   "cell_type": "markdown",
   "id": "7360bce3",
   "metadata": {},
   "source": [
    "### Memoria  \n",
    "\n",
    "Hemos visto algoritmos que si bien son buenos, corren el riesgo de estancarse en un espacio del espacio de parámetros y por esto pueden consultar varias veces zonas \"malas\" del espacio vectorial. Si dotamos a nuestro algoritmo de un poco de memoria, podemos incrementar la eficiencia de nuestro algoritmo."
   ]
  },
  {
   "cell_type": "markdown",
   "id": "cc7a61e5",
   "metadata": {},
   "source": [
    "---------\n",
    "## Recursos\n",
    "\n",
    "<table style=\"margin:0; max-width: 1000px;\">\n",
    "    <tbody>\n",
    "        <tr>\n",
    "            <td>\n",
    "                <a href=\"https://thatcsharpguy.com\">\n",
    "                    <img src=\"assets/general/Sharp@1x.png\" />\n",
    "                </a>\n",
    "            </td>\n",
    "            <td>\n",
    "                <a href=\"https://twitter.com/io_exception\">\n",
    "                    <img src=\"assets/general/Twitter@1x.png\" />\n",
    "                </a>\n",
    "            </td>\n",
    "            <td>\n",
    "                <a href=\"https://tcsg.dev/discord\">\n",
    "                    <img src=\"assets/general/Discord@1x.png\" />\n",
    "                </a>\n",
    "            </td>\n",
    "            <td>\n",
    "                <a href=\"https://github.com/thatcsharpguy/df\">\n",
    "                    <img src=\"assets/general/GitHub@1x.png\" />\n",
    "                </a>\n",
    "            </td>\n",
    "            <td>\n",
    "                <a href=\"https://youtube.com/thatcsharpguy\">\n",
    "                    <img src=\"assets/general/YouTube@1x.png\" />\n",
    "                </a>\n",
    "            </td>\n",
    "            <td>\n",
    "                <a href=\"https://youtu.be/tzKtffhJ31Y\">\n",
    "                    <img src=\"assets/general/EnVivo@1x.png\" />\n",
    "                </a>\n",
    "            </td>\n",
    "            <td>\n",
    "                <a href=\"https://twitch.tv/thatcsharpguy\">\n",
    "                    <img src=\"assets/general/Twitch@1x.png\" />\n",
    "                </a>\n",
    "            </td>\n",
    "        </tr>\n",
    "    </tbody>\n",
    "</table>\n",
    "\n",
    "- **¿Por qué vuela un avión?** - [http://www.rinconcete.com/vuelo_avion.html](http://www.rinconcete.com/vuelo_avion.html) \n",
    " \n",
    " - **Algoritmo de recocido simulado** - [https://es.wikipedia.org/wiki/Algoritmo_de_recocido_simulado](https://es.wikipedia.org/wiki/Algoritmo_de_recocido_simulado)\n",
    " \n",
    " - **Simulated Annealing for beginners** - [https://www.theprojectspot.com/tutorial-post/simulated-annealing-algorithm-for-beginners/6](https://www.theprojectspot.com/tutorial-post/simulated-annealing-algorithm-for-beginners/6)\n",
    "\n",
    " - **Algoritmos genéticos** - [https://youtu.be/a2kiaRREyMw](https://youtu.be/a2kiaRREyMw)  \n",
    " - **Algoritmos genéticos (en vivo)** - [https://youtu.be/0dfXTj9Cn1E](https://youtu.be/0dfXTj9Cn1E)\n",
    " "
   ]
  },
  {
   "cell_type": "code",
   "execution_count": null,
   "id": "bdd89794",
   "metadata": {},
   "outputs": [],
   "source": []
  }
 ],
 "metadata": {
  "kernelspec": {
   "display_name": "Python 3",
   "language": "python",
   "name": "python3"
  },
  "language_info": {
   "codemirror_mode": {
    "name": "ipython",
    "version": 3
   },
   "file_extension": ".py",
   "mimetype": "text/x-python",
   "name": "python",
   "nbconvert_exporter": "python",
   "pygments_lexer": "ipython3",
   "version": "3.8.2"
  }
 },
 "nbformat": 4,
 "nbformat_minor": 5
}
